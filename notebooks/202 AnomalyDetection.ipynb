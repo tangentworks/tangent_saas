{
 "cells": [
  {
   "cell_type": "markdown",
   "metadata": {
    "application/vnd.databricks.v1+cell": {
     "cellMetadata": {},
     "inputWidgets": {},
     "nuid": "90aa4de2-dfe3-41ef-b57e-52e5a3864e9f",
     "showTitle": false,
     "title": ""
    }
   },
   "source": [
    "# Tangent Databricks Tutorial - AnomalyDetection"
   ]
  },
  {
   "cell_type": "markdown",
   "metadata": {
    "application/vnd.databricks.v1+cell": {
     "cellMetadata": {},
     "inputWidgets": {},
     "nuid": "c5fb5b79-67ac-4f6f-bc9d-b8b3e836ee40",
     "showTitle": false,
     "title": ""
    }
   },
   "source": [
    "In this tutorial, you will learn to build an AnomalyDetection model with Tangent, generate detections using this model and use additional capabilities.  \n",
    "The AnomalyDetection module exists to have controle over all the steps in the model building & detection process. The main steps are:\n",
    "1. building a model using historical training data.\n",
    "2. making an inference using this model.\n",
    "\n",
    "To show the capabilities of the AnomalyDetection module, we will use an example dataset from an industrial use case.  \n",
    "The goal is to monitor the state of a gearbox system and prevent damage by detecting anomalies using historical sensor measurements."
   ]
  },
  {
   "cell_type": "markdown",
   "metadata": {
    "application/vnd.databricks.v1+cell": {
     "cellMetadata": {},
     "inputWidgets": {},
     "nuid": "fc63cea2-8aef-4edc-b1e8-13fab7ea22a4",
     "showTitle": false,
     "title": ""
    }
   },
   "source": [
    "# 0. Setup"
   ]
  },
  {
   "cell_type": "markdown",
   "metadata": {
    "application/vnd.databricks.v1+cell": {
     "cellMetadata": {},
     "inputWidgets": {},
     "nuid": "9ddc39c2-26b7-4dc6-958c-bb2b461f35c3",
     "showTitle": false,
     "title": ""
    }
   },
   "source": [
    "First, import the tangent_works package and other supporting libraries."
   ]
  },
  {
   "cell_type": "code",
   "execution_count": null,
   "metadata": {
    "application/vnd.databricks.v1+cell": {
     "cellMetadata": {
      "byteLimit": 2048000,
      "rowLimit": 10000
     },
     "inputWidgets": {},
     "nuid": "51016f8e-5213-4202-b465-5553f7f5e4d8",
     "showTitle": false,
     "title": ""
    }
   },
   "outputs": [],
   "source": [
    "import tangent_works as tw\n",
    "import pandas as pd\n",
    "import numpy as np"
   ]
  },
  {
   "cell_type": "markdown",
   "metadata": {},
   "source": [
    "Activate the package with the access token to the Tangent API."
   ]
  },
  {
   "cell_type": "code",
   "execution_count": null,
   "metadata": {},
   "outputs": [],
   "source": [
    "import os\n",
    "import json\n",
    "credentials = json.load(open('../credentials.json'))\n",
    "os.environ[\"TANGENT_LICENSE\"] = (credentials['token'])"
   ]
  },
  {
   "cell_type": "markdown",
   "metadata": {
    "application/vnd.databricks.v1+cell": {
     "cellMetadata": {},
     "inputWidgets": {},
     "nuid": "626d27ef-223b-40c5-8510-5c4be2bc8651",
     "showTitle": false,
     "title": ""
    }
   },
   "source": [
    "To visualize the results of this exercise, the following visualization functions can be used."
   ]
  },
  {
   "cell_type": "code",
   "execution_count": null,
   "metadata": {
    "application/vnd.databricks.v1+cell": {
     "cellMetadata": {
      "byteLimit": 2048000,
      "rowLimit": 10000
     },
     "inputWidgets": {},
     "nuid": "a1e0366e-1a37-4001-b0a7-7eb6785adbde",
     "showTitle": false,
     "title": ""
    }
   },
   "outputs": [],
   "source": [
    "# -------------------------------- Supporting Libraries --------------------------------\n",
    "\n",
    "import plotly.express as px\n",
    "import plotly.graph_objects as go\n",
    "import plotly.subplots as splt\n",
    "\n",
    "class visualization:\n",
    "    def predictor_importance(df):\n",
    "        v_data = df[df['importance']>0]\n",
    "        x_axis = 'name'\n",
    "        y_axis = 'rel_importance'\n",
    "        fig1 = go.Figure(go.Bar(x=v_data[x_axis], y=v_data[y_axis],text=round(v_data[y_axis],2),textposition='auto'))\n",
    "        fig1.update_layout(height=500,width=1000,title_text='Predictor Importances',xaxis_title=x_axis,yaxis_title=y_axis)\n",
    "        print('Predictors not used:'+str(list(df[~(df['importance']>0)]['name'])))\n",
    "        fig1.show()\n",
    "\n",
    "    def feature_importance(df):\n",
    "        fig = px.treemap(df, path=[px.Constant(\"all\"), 'model', 'feature'], values='importance',hover_data='beta',color='feature')\n",
    "        fig.update_traces(root_color=\"lightgrey\")\n",
    "        fig.update_layout(height=600, width=1000, title_text=\"Features\",margin = dict(t=50, l=25, r=25, b=25))\n",
    "        fig.show()\n",
    "\n",
    "    def data(df,timestamp,target,predictors):\n",
    "        fig = splt.make_subplots(rows=2, cols=1, shared_xaxes=True, vertical_spacing=0.02)\n",
    "        fig.add_trace(go.Scatter(x=df[timestamp], y=df[target], name=target,connectgaps=True), row=1, col=1)\n",
    "        for idx, p in enumerate(predictors): fig.add_trace(go.Scatter(x=df[timestamp], y=df[p], name=p,connectgaps=True), row=2, col=1)\n",
    "        fig.update_layout(height=600, width=1100, title_text=\"Data visualization\")\n",
    "        fig.show()\n",
    "\n",
    "    def rca(time_series,timestamp_column,target_column,df,rca_tables_df,rca_timestamp,window=48):\n",
    "        rca_tables_df['timestamp'] = pd.to_datetime(rca_tables_df['timestamp'])\n",
    "        df['timestamp'] = pd.to_datetime(df['timestamp'])   \n",
    "        \n",
    "        try:\n",
    "            df = df.rename(columns={'normal_behavior':'forecast'})\n",
    "        except:\n",
    "            pass\n",
    "        rca_index = df[df['timestamp']==rca_timestamp].index[0]\n",
    "        v_data = time_series.iloc[rca_index-window:rca_index+window]\n",
    "        v_results = df[(df['timestamp']>=v_data[timestamp_column].min())&(df['timestamp']<=v_data[timestamp_column].max())]\n",
    "        v_rca = rca_tables_df[(rca_tables_df['type']=='yhat')&(rca_tables_df['timestamp']==rca_timestamp)]\n",
    "        trace_list_1,trace_list_2,trace_list_3 = [],[],[]\n",
    "        for i in range(len(v_rca)):\n",
    "            yhat_df = pd.concat([v_results[v_results['timestamp']!=rca_timestamp][['timestamp','forecast']],pd.DataFrame(v_rca.iloc[i][['timestamp','value']]).transpose().rename(columns={'value':'forecast'})]).sort_values(by='timestamp')\n",
    "            visibility = True if i==0 else False\n",
    "            trace_list_1.append(go.Scatter(x=list(v_data[timestamp_column]),y=list(v_data[target_column]), visible=visibility, line={'color': 'black'},name='target'))\n",
    "            trace_list_2.append(go.Scatter(x=list(v_results['timestamp']),y=list(v_results['forecast']), visible=visibility, line={'color': 'red'},name='forecast'))\n",
    "            trace_list_3.append(go.Scatter(x=list(yhat_df['timestamp']),y=list(yhat_df['forecast']), visible=visibility, line={'color': 'orange'},name=v_rca.iloc[i]['term']))\n",
    "\n",
    "        fig = go.Figure(data=trace_list_1+trace_list_2+trace_list_3)\n",
    "        fig.add_trace(go.Scatter(x=v_data[timestamp_column], y=v_data[target_column], name=target_column, line=dict(color='black')))\n",
    "        steps = []\n",
    "        num_steps = len(trace_list_1)\n",
    "        for i in range(num_steps):\n",
    "            step = dict(method = 'restyle',args = ['visible', [False] * len(fig.data)])\n",
    "            step['args'][1][i] = True\n",
    "            step['args'][1][i+num_steps] = True\n",
    "            step['args'][1][i+num_steps*2] = True\n",
    "            steps.append(step)\n",
    "        sliders = [dict(steps = steps,y= -0.05)]\n",
    "        fig.layout.sliders = sliders \n",
    "        fig.add_vline(x=rca_timestamp, line_dash=\"dash\", line_color=\"green\")\n",
    "        fig.update_layout(height=600,width=1200,title_text='Model Timestamp Analysis',legend=dict(y=-0.4,x=0.0,orientation='h'))\n",
    "        fig.show()\n",
    "\n",
    "    def detections(df):\n",
    "        fig = splt.make_subplots(rows=2, cols=1, shared_xaxes=True, vertical_spacing=0.02)\n",
    "        fig.add_trace(go.Scatter(x=df['timestamp'], y=df['target'], name='target',line=dict(color='black')), row=1, col=1)\n",
    "        fig.add_trace(go.Scatter(x=df['timestamp'], y=df['normal_behavior'], name='normal_behavior',line=dict(color='goldenrod')), row=1, col=1)\n",
    "        for column in [f for f in df.columns if f not in ['timestamp','target','normal_behavior']]:\n",
    "            fig.add_trace(go.Scatter(x=df['timestamp'], y=df[column], name=column), row=2, col=1)\n",
    "            va = df[df[column]>=1]\n",
    "            fig.add_trace(go.Scatter(x=va['timestamp'], y=va['target'], name=column.replace('anomaly_indicator_','')+' anomaly',mode='markers', line={'color': 'red'}), row=1, col=1)\n",
    "        fig.add_hline(y=1,row=2,line=dict(color='red'))\n",
    "        fig.update_layout(height=800, width=1000, title_text=\"Results\")\n",
    "        fig.show()"
   ]
  },
  {
   "cell_type": "markdown",
   "metadata": {
    "application/vnd.databricks.v1+cell": {
     "cellMetadata": {},
     "inputWidgets": {},
     "nuid": "7128844e-5e36-435e-a00b-c03c77bed8f6",
     "showTitle": false,
     "title": ""
    }
   },
   "source": [
    "# 1. Data"
   ]
  },
  {
   "cell_type": "markdown",
   "metadata": {
    "application/vnd.databricks.v1+cell": {
     "cellMetadata": {},
     "inputWidgets": {},
     "nuid": "4dcf2233-00bb-41cd-ad68-67d463e97eb9",
     "showTitle": false,
     "title": ""
    }
   },
   "source": [
    "The dataset that will be used in this notebook is called \"gearbox\".  \n",
    "It contains historical sensor data of a gearbox system such as temperature measurements from different parts of the equipment and power applied to the system.  \n",
    "In the cell below, this dataset is preprocessed and made ready for use with Tangent."
   ]
  },
  {
   "cell_type": "code",
   "execution_count": null,
   "metadata": {
    "application/vnd.databricks.v1+cell": {
     "cellMetadata": {
      "byteLimit": 2048000,
      "rowLimit": 10000
     },
     "inputWidgets": {},
     "nuid": "efae911b-fde6-4f71-b8ea-c0699074f25f",
     "showTitle": false,
     "title": ""
    }
   },
   "outputs": [],
   "source": [
    "file_path = '../data/gearbox.csv'\n",
    "tangent_dataframe = pd.read_csv(file_path)\n",
    "group_keys = []\n",
    "timestamp_column = \"timestamp\"\n",
    "target_column = \"GEARBEARINGTEMP\"\n",
    "predictors = [s for s in list(tangent_dataframe.columns) if s not in group_keys + [timestamp_column, target_column]]\n",
    "tangent_dataframe = tangent_dataframe[group_keys + [timestamp_column, target_column] + predictors].sort_values(by=group_keys + [timestamp_column]).reset_index(drop=True)\n",
    "tangent_dataframe[timestamp_column] = pd.to_datetime(pd.to_datetime(tangent_dataframe[timestamp_column]).dt.strftime(\"%Y-%m-%d %H:%M:%S\"))\n",
    "tangent_dataframe"
   ]
  },
  {
   "cell_type": "markdown",
   "metadata": {
    "application/vnd.databricks.v1+cell": {
     "cellMetadata": {},
     "inputWidgets": {},
     "nuid": "5bdf50a2-12f2-47c0-9f93-ac6188345305",
     "showTitle": false,
     "title": ""
    }
   },
   "source": [
    "In time series analysis, when exploring a dataset, it is best practice to visualize the data and learn which patterns might exists in the data that we want Tangent to identify automatically.  \n",
    "In this graph, the target column \"GEARBEARINGTEMP\" is visualized above and the additional explanatory variables or predictors are visualized below.  \n",
    "Notice that all measurements are aligned with the target column since they were updated and available at the same time."
   ]
  },
  {
   "cell_type": "code",
   "execution_count": null,
   "metadata": {
    "application/vnd.databricks.v1+cell": {
     "cellMetadata": {
      "byteLimit": 2048000,
      "rowLimit": 10000
     },
     "inputWidgets": {},
     "nuid": "90745146-d12c-4757-b8c8-f57252b0cf1f",
     "showTitle": false,
     "title": ""
    }
   },
   "outputs": [],
   "source": [
    "visualization.data(df=tangent_dataframe,timestamp=timestamp_column,target=target_column,predictors=predictors)"
   ]
  },
  {
   "cell_type": "markdown",
   "metadata": {
    "application/vnd.databricks.v1+cell": {
     "cellMetadata": {},
     "inputWidgets": {},
     "nuid": "7acd9d5e-fcfa-4aae-9f5c-8426ad04cedd",
     "showTitle": false,
     "title": ""
    }
   },
   "source": [
    "# 2. Configuration"
   ]
  },
  {
   "cell_type": "markdown",
   "metadata": {
    "application/vnd.databricks.v1+cell": {
     "cellMetadata": {},
     "inputWidgets": {},
     "nuid": "af0ee949-70b5-426c-91f9-476bb9d84959",
     "showTitle": false,
     "title": ""
    }
   },
   "source": [
    "The first step in the anomaly detection process using the Tangent is model building. To describe to Tangent, how it should build a model using this dataset, we can use the configuration below.  \n",
    "Many settings can be applied, however Tangent is designed to automate as much as possible. When a parameter is not set, Tangent will assume default settings.  \n",
    "In that case, Tangent will decided how to apply certain settings for you. You can find the final result in the AnomalyDetection object after model building.  \n",
    "\n",
    "In this example, default settings will be used. The only specific configuration will be to showcase the different kind of detection layers. By default, the residual and moving average are applied but there are other types of detection layers available that we will use in the example below.  \n",
    "Tangent will automatically recognize the most likely sampling rate, in this case quarter hourly, and build a time series anomaly detection model automatically. "
   ]
  },
  {
   "cell_type": "code",
   "execution_count": null,
   "metadata": {
    "application/vnd.databricks.v1+cell": {
     "cellMetadata": {
      "byteLimit": 2048000,
      "rowLimit": 10000
     },
     "inputWidgets": {},
     "nuid": "16cfd6bb-fdae-45c9-9555-6c3bf5f0ba90",
     "showTitle": false,
     "title": ""
    }
   },
   "outputs": [],
   "source": [
    "build_anomaly_detection_configuration = {\n",
    "    'normal_behavior':{\n",
    "        # 'target_column':'str',\n",
    "        # 'holiday_column:':'str',\n",
    "        # 'target_offsets':'combined',\n",
    "        # 'allow_offsets':True,\n",
    "        # 'max_offsets_depth': 0,\n",
    "        # 'normalization':True,\n",
    "        # 'max_feature_count':20,\n",
    "        # 'transformations': [\n",
    "        #     'exponential_moving_average',\n",
    "        #     'rest_of_week',\n",
    "        #     'periodic',\n",
    "        #     'intercept',\n",
    "        #     'piecewise_linear',\n",
    "        #     'time_offsets',\n",
    "        #     'polynomial',\n",
    "        #     'identity',\n",
    "        #     'simple_moving_average',\n",
    "        #     'month',\n",
    "        #     'trend',\n",
    "        #     'day_of_week',\n",
    "        #     'fourier',\n",
    "        #     'public_holidays',\n",
    "        #     'one_hot_encoding'\n",
    "        # ],    \n",
    "        # 'daily_cycle':True,\n",
    "        # 'confidence_level':90,\n",
    "        # 'categorical_columns':[\n",
    "        #     'str'\n",
    "        # ],\n",
    "        # 'data_alignment': [\n",
    "        #     {\n",
    "        #         'column_name': 'string',\n",
    "        #         'timestamp': 'yyyy-mm-dd hh:mm:ssZ'\n",
    "        #     }\n",
    "        # ],\n",
    "    },\n",
    "    'detection_layers': [\n",
    "        {\n",
    "            'residuals_transformation':{\n",
    "                'type':'residuals'\n",
    "            },\n",
    "    #         'sensitivity':0.3\n",
    "        },\n",
    "        {\n",
    "            'residuals_transformation':{\n",
    "                'type':'residuals_change',\n",
    "    #             'window_length':2\n",
    "            },\n",
    "    #         'sensitivity':0.3\n",
    "        },\n",
    "        {\n",
    "            'residuals_transformation':{\n",
    "                'type':'moving_average',\n",
    "    #             'window_length':1\n",
    "            },\n",
    "    #         'sensitivity':0.3\n",
    "        },\n",
    "        {\n",
    "            'residuals_transformation':{\n",
    "                'type':'moving_average_change',\n",
    "    #             'window_lengths':[\n",
    "    #                 2,\n",
    "    #                 1\n",
    "    #             ]\n",
    "            },\n",
    "    #         'sensitivity':0.3\n",
    "        },\n",
    "        {\n",
    "            'residuals_transformation':{\n",
    "                'type':'standard_deviation',\n",
    "    #             'window_length':1\n",
    "            },\n",
    "    #         'sensitivity':0.3\n",
    "        },\n",
    "        {\n",
    "            'residuals_transformation':{\n",
    "                'type':'standard_deviation_change',\n",
    "    #             'window_lengths':[\n",
    "    #                 2,\n",
    "    #                 1\n",
    "    #             ]\n",
    "            },\n",
    "    #         'sensitivity':0.3\n",
    "        },\n",
    "    ]\n",
    "}"
   ]
  },
  {
   "cell_type": "markdown",
   "metadata": {
    "application/vnd.databricks.v1+cell": {
     "cellMetadata": {},
     "inputWidgets": {},
     "nuid": "f90cec93-069c-4dee-bd77-7d68a709a550",
     "showTitle": false,
     "title": ""
    }
   },
   "source": [
    "# 3. Tangent"
   ]
  },
  {
   "cell_type": "markdown",
   "metadata": {
    "application/vnd.databricks.v1+cell": {
     "cellMetadata": {},
     "inputWidgets": {},
     "nuid": "fbbd08d1-6818-45c9-a302-62fa09bb082f",
     "showTitle": false,
     "title": ""
    }
   },
   "source": [
    "In this section, the following steps take place:\n",
    "1. Create and validate a Tangent time series object\n",
    "2. Create an AnomalyDetection object by combining a time series and model building configuration.\n",
    "3. Send a model building request by applying the \"build_model\" function.\n",
    "4. Send a detect request by applying the \"detect\" function."
   ]
  },
  {
   "cell_type": "code",
   "execution_count": null,
   "metadata": {
    "application/vnd.databricks.v1+cell": {
     "cellMetadata": {
      "byteLimit": 2048000,
      "rowLimit": 10000
     },
     "inputWidgets": {},
     "nuid": "3d38faf6-08fe-42e3-af79-35317ffe35a9",
     "showTitle": false,
     "title": ""
    }
   },
   "outputs": [],
   "source": [
    "time_series = tw.TimeSeries(data=tangent_dataframe)\n",
    "time_series.validate()"
   ]
  },
  {
   "cell_type": "code",
   "execution_count": null,
   "metadata": {
    "application/vnd.databricks.v1+cell": {
     "cellMetadata": {
      "byteLimit": 2048000,
      "rowLimit": 10000
     },
     "inputWidgets": {},
     "nuid": "b4961b94-25f3-45ad-9b8d-093aa2a93934",
     "showTitle": false,
     "title": ""
    }
   },
   "outputs": [],
   "source": [
    "tangent_anomaly_detection = tw.AnomalyDetection(time_series=time_series,configuration=build_anomaly_detection_configuration)"
   ]
  },
  {
   "cell_type": "code",
   "execution_count": null,
   "metadata": {
    "application/vnd.databricks.v1+cell": {
     "cellMetadata": {
      "byteLimit": 2048000,
      "rowLimit": 10000
     },
     "inputWidgets": {},
     "nuid": "25eed721-b42e-48eb-b7d4-1be2af9b896a",
     "showTitle": false,
     "title": ""
    }
   },
   "outputs": [],
   "source": [
    "tangent_anomaly_detection.build_model()\n",
    "tangent_anomaly_detection_model = tangent_anomaly_detection.model.to_dict()"
   ]
  },
  {
   "cell_type": "code",
   "execution_count": null,
   "metadata": {
    "application/vnd.databricks.v1+cell": {
     "cellMetadata": {
      "byteLimit": 2048000,
      "rowLimit": 10000
     },
     "inputWidgets": {},
     "nuid": "a2132db9-6228-47a8-ac61-d981efdcf793",
     "showTitle": false,
     "title": ""
    }
   },
   "outputs": [],
   "source": [
    "detect_df = tangent_anomaly_detection.detect()"
   ]
  },
  {
   "cell_type": "markdown",
   "metadata": {
    "application/vnd.databricks.v1+cell": {
     "cellMetadata": {},
     "inputWidgets": {},
     "nuid": "001b3fe3-5346-4edf-96ab-8316807c8fd5",
     "showTitle": false,
     "title": ""
    }
   },
   "source": [
    "# 4. Results"
   ]
  },
  {
   "cell_type": "markdown",
   "metadata": {
    "application/vnd.databricks.v1+cell": {
     "cellMetadata": {},
     "inputWidgets": {},
     "nuid": "99ae56ae-9bd9-41f6-8f27-8a86353c7822",
     "showTitle": false,
     "title": ""
    }
   },
   "source": [
    "The model can now post processed into tables that can either be stored, analyzed or visualized by the user.  \n",
    "Below, the properties and features of the model are extracted."
   ]
  },
  {
   "cell_type": "code",
   "execution_count": null,
   "metadata": {
    "application/vnd.databricks.v1+cell": {
     "cellMetadata": {
      "byteLimit": 2048000,
      "rowLimit": 10000
     },
     "inputWidgets": {},
     "nuid": "9ccc43e1-0e76-4d10-b40d-8af9dd51bb94",
     "showTitle": false,
     "title": ""
    }
   },
   "outputs": [],
   "source": [
    "properties_df = tw.PostProcessing().properties(model=tangent_anomaly_detection_model)\n",
    "features_df = tw.PostProcessing().features(model=tangent_anomaly_detection_model)"
   ]
  },
  {
   "cell_type": "markdown",
   "metadata": {
    "application/vnd.databricks.v1+cell": {
     "cellMetadata": {},
     "inputWidgets": {},
     "nuid": "ed1901c3-2438-42ea-8309-e529c4196dc4",
     "showTitle": false,
     "title": ""
    }
   },
   "source": [
    "# 5. Visualization"
   ]
  },
  {
   "cell_type": "markdown",
   "metadata": {
    "application/vnd.databricks.v1+cell": {
     "cellMetadata": {},
     "inputWidgets": {},
     "nuid": "4ecdaeb4-dd4d-4a41-91f2-fcc2a8e40c7d",
     "showTitle": false,
     "title": ""
    }
   },
   "source": [
    "All results can be easily visualized using the provided templates.  \n",
    "The top graph shows:\n",
    "- The __\"target\"__ or historical sensor measurements.\n",
    "- The __\"normal_behavior\"__ which are in sample results that lie on top of the training data.  \n",
    "These values show the expected behavior of the target signal according to Tangent. \n",
    "- __\"Anomalies\"__ from the detection layers indicating points of interest in the target.\n",
    "\n",
    "The bottom graph shows several detection layers that are based on the differences between the target signal and the normal behavior. These layers offer different perspectives, and different ways to identify anomalies. \n",
    "\n",
    "When exploring the graph, we can recognize that an effective normal behavior model seems to have been identified by Tangent. The rising detection layers at the end clearly identify increasingly anomalous values near the end of the dataset that, in this case, can be leveraged to detect faults in the gearbox before a breakdown event."
   ]
  },
  {
   "cell_type": "code",
   "execution_count": null,
   "metadata": {
    "application/vnd.databricks.v1+cell": {
     "cellMetadata": {
      "byteLimit": 2048000,
      "rowLimit": 10000
     },
     "inputWidgets": {},
     "nuid": "dcf76e2f-9f6e-4cc1-9856-a9eadf4e3030",
     "showTitle": false,
     "title": ""
    }
   },
   "outputs": [],
   "source": [
    "visualization.detections(detect_df)"
   ]
  },
  {
   "cell_type": "markdown",
   "metadata": {
    "application/vnd.databricks.v1+cell": {
     "cellMetadata": {},
     "inputWidgets": {},
     "nuid": "1f8971d5-c7fb-448d-987a-612c4465d1cd",
     "showTitle": false,
     "title": ""
    }
   },
   "source": [
    "In order to understand which patterns Tangent has identified to achieve this normal behavior, we can visualize several levels of insights.  \n",
    "\n",
    "Firstly, the properties, which show the relative importance of each of the columns of the dataset.  \n",
    "Here, we learn which columns contributed a lot of predictive value to the model and where a lot of useful features have been found.  \n",
    "If there are predictors from which no features were included in the model building by Tangent, then they will be listed here as well."
   ]
  },
  {
   "cell_type": "code",
   "execution_count": null,
   "metadata": {
    "application/vnd.databricks.v1+cell": {
     "cellMetadata": {
      "byteLimit": 2048000,
      "rowLimit": 10000
     },
     "inputWidgets": {},
     "nuid": "4547c49c-3c9c-4d9b-a4e5-cb20c3fd9949",
     "showTitle": false,
     "title": ""
    }
   },
   "outputs": [],
   "source": [
    "visualization.predictor_importance(properties_df)"
   ]
  },
  {
   "cell_type": "markdown",
   "metadata": {
    "application/vnd.databricks.v1+cell": {
     "cellMetadata": {},
     "inputWidgets": {},
     "nuid": "981cafe3-65cd-4b67-8431-dc4cbd334a0e",
     "showTitle": false,
     "title": ""
    }
   },
   "source": [
    "Secondly, the actual features from the Tangent model can be visualized as well.  \n",
    "In this treemap graph, the relative importance of each of the features from each model in the model zoo can be quickly identified. In this example, only 1 model exists in the model zoo.\n",
    "These are the predictive patterns that are hidden within the data that Tangent has automatically extracted from the data.  "
   ]
  },
  {
   "cell_type": "code",
   "execution_count": null,
   "metadata": {
    "application/vnd.databricks.v1+cell": {
     "cellMetadata": {
      "byteLimit": 2048000,
      "rowLimit": 10000
     },
     "inputWidgets": {},
     "nuid": "6a7b5273-e7af-4dbd-afca-e1cdadc6fd34",
     "showTitle": false,
     "title": ""
    }
   },
   "outputs": [],
   "source": [
    "visualization.feature_importance(features_df)"
   ]
  },
  {
   "cell_type": "markdown",
   "metadata": {
    "application/vnd.databricks.v1+cell": {
     "cellMetadata": {},
     "inputWidgets": {},
     "nuid": "2350063e-2cba-40d3-8047-16fd24d1b447",
     "showTitle": false,
     "title": ""
    }
   },
   "source": [
    "# 6. Root Cause Analysis"
   ]
  },
  {
   "cell_type": "markdown",
   "metadata": {
    "application/vnd.databricks.v1+cell": {
     "cellMetadata": {},
     "inputWidgets": {},
     "nuid": "0e54f1cd-cdd7-444f-8390-766c61bdb873",
     "showTitle": false,
     "title": ""
    }
   },
   "source": [
    "An extended capability of Tangent is to apply Root Cause Analysis (RCA) to the predictions.  \n",
    "With RCA, we can combine the information from both the features in the model as well as the predictions and apply this to a single timestamp in the dataset.  \n",
    "\n",
    "A Tangent model is a cumulative addition of identified features that each explain a bit more of the variance in the target signal.  \n",
    "We can visualize the addition of these features to the model and learn which features contribute to either useful movements or possibly unexpected movements in the prediction.\n",
    "\n",
    "The example below first extracts from Tangent how each and every single prediction is built up. This information is processed and from there, the user can select a specific timestamp to analyze and choose a window around that timestamp for additional context."
   ]
  },
  {
   "cell_type": "code",
   "execution_count": null,
   "metadata": {
    "application/vnd.databricks.v1+cell": {
     "cellMetadata": {
      "byteLimit": 2048000,
      "rowLimit": 10000
     },
     "inputWidgets": {},
     "nuid": "52d189fb-a8ca-4f37-892c-f445d1121d1c",
     "showTitle": false,
     "title": ""
    }
   },
   "outputs": [],
   "source": [
    "tangent_rca = tangent_anomaly_detection.rca()"
   ]
  },
  {
   "cell_type": "code",
   "execution_count": null,
   "metadata": {
    "application/vnd.databricks.v1+cell": {
     "cellMetadata": {
      "byteLimit": 2048000,
      "rowLimit": 10000
     },
     "inputWidgets": {},
     "nuid": "ca551fdd-c3c9-4125-9bc1-457ce540d6e7",
     "showTitle": false,
     "title": ""
    }
   },
   "outputs": [],
   "source": [
    "rca_tables = []\n",
    "for model_index in sorted(tangent_rca.keys()):\n",
    "    rca_table = tangent_rca[model_index].melt(id_vars='timestamp')\n",
    "    rca_table['model_index'] = model_index\n",
    "    rca_tables.append(rca_table)\n",
    "rca_tables_df = pd.concat(rca_tables)\n",
    "rca_tables_df['type'] = np.where(rca_tables_df['variable'].str.contains('term '),'term',np.where(rca_tables_df['variable'].str.contains('yhat '),'yhat','other'))\n",
    "rca_tables_df['term'] = np.where(rca_tables_df['type'].isin(['term','yhat']),rca_tables_df['variable'].str.replace('term ','').str.replace('yhat ',''),np.nan)"
   ]
  },
  {
   "cell_type": "markdown",
   "metadata": {
    "application/vnd.databricks.v1+cell": {
     "cellMetadata": {},
     "inputWidgets": {},
     "nuid": "d6c0eb7e-36db-4e09-9f4b-c7ada6e315e1",
     "showTitle": false,
     "title": ""
    }
   },
   "source": [
    "Move the slider from left to right to add the different features into the model to eventually come to the final predicted value.  \n",
    "The black line are the original measured values. The orange line shows the RCA values that dynamically moves as features are added.  \n",
    "The red line shows the eventual prediction that will correspond with the orange line when the slider is moved entirely to the right. "
   ]
  },
  {
   "cell_type": "code",
   "execution_count": null,
   "metadata": {
    "application/vnd.databricks.v1+cell": {
     "cellMetadata": {
      "byteLimit": 2048000,
      "rowLimit": 10000
     },
     "inputWidgets": {},
     "nuid": "2d3dfdc4-5069-4e9d-981d-d10600c19aa0",
     "showTitle": false,
     "title": ""
    }
   },
   "outputs": [],
   "source": [
    "rca_timestamp = pd.to_datetime('2020-10-11 00:00:00')\n",
    "window = 20\n",
    "visualization.rca(\n",
    "    time_series=tangent_dataframe,\n",
    "    timestamp_column=timestamp_column,\n",
    "    target_column=target_column,\n",
    "    df=detect_df,\n",
    "    rca_tables_df=rca_tables_df,\n",
    "    rca_timestamp=rca_timestamp,\n",
    "    window=window\n",
    "    )"
   ]
  }
 ],
 "metadata": {
  "application/vnd.databricks.v1+notebook": {
   "dashboards": [],
   "environmentMetadata": null,
   "language": "python",
   "notebookMetadata": {
    "pythonIndentUnit": 4
   },
   "notebookName": "202 AnomalyDetection",
   "widgets": {}
  },
  "kernelspec": {
   "display_name": "Python 3 (ipykernel)",
   "language": "python",
   "name": "python3"
  },
  "language_info": {
   "codemirror_mode": {
    "name": "ipython",
    "version": 3
   },
   "file_extension": ".py",
   "mimetype": "text/x-python",
   "name": "python",
   "nbconvert_exporter": "python",
   "pygments_lexer": "ipython3",
   "version": "3.11.5"
  }
 },
 "nbformat": 4,
 "nbformat_minor": 4
}
