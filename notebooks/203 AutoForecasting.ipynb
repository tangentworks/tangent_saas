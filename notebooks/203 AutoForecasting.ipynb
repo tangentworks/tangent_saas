{
 "cells": [
  {
   "cell_type": "markdown",
   "metadata": {
    "application/vnd.databricks.v1+cell": {
     "cellMetadata": {},
     "inputWidgets": {},
     "nuid": "e6d9d7f4-5bd7-4266-b2e5-ac928c6064aa",
     "showTitle": false,
     "title": ""
    }
   },
   "source": [
    "# Tangent Databricks Tutorial - AutoForecasting"
   ]
  },
  {
   "cell_type": "markdown",
   "metadata": {
    "application/vnd.databricks.v1+cell": {
     "cellMetadata": {},
     "inputWidgets": {},
     "nuid": "e159893a-3f91-4520-8896-1b6bc7cd2570",
     "showTitle": false,
     "title": ""
    }
   },
   "source": [
    "In this tutorial, you will learn to build a forecasting model and generate predictions with Tangent in 1 step using AutoForecasting as well as use additional capabilities.  \n",
    "The AutoForecasting module builds on the Forecasting capabilities and combines the steps of model building and prediction into one. \n",
    "This helps the user with quickly applying Tangent into a forecasting use case.\n",
    "\n",
    "To show the capabilities of the AutoForecasting module, we will use an example dataset from a energy forecasting use case.  \n",
    "The goal is to forecast the grid load (energy consumption) in Belgium 24 hours ahead using historical consumption data and other explanatory variables such as weather and public holidays."
   ]
  },
  {
   "cell_type": "markdown",
   "metadata": {
    "application/vnd.databricks.v1+cell": {
     "cellMetadata": {},
     "inputWidgets": {},
     "nuid": "8d8a15e1-fa26-4662-a6d7-f700ffad7702",
     "showTitle": false,
     "title": ""
    }
   },
   "source": [
    "# 0. Setup"
   ]
  },
  {
   "cell_type": "markdown",
   "metadata": {
    "application/vnd.databricks.v1+cell": {
     "cellMetadata": {},
     "inputWidgets": {},
     "nuid": "3750e2ad-65f6-43a2-a15f-4ede381d686c",
     "showTitle": false,
     "title": ""
    }
   },
   "source": [
    "First, import the tangent_works package and other supporting libraries."
   ]
  },
  {
   "cell_type": "code",
   "execution_count": null,
   "metadata": {
    "application/vnd.databricks.v1+cell": {
     "cellMetadata": {
      "byteLimit": 2048000,
      "rowLimit": 10000
     },
     "inputWidgets": {},
     "nuid": "d75826f7-75e4-47cb-8016-638ea402a02f",
     "showTitle": false,
     "title": ""
    }
   },
   "outputs": [],
   "source": [
    "import tangent_works as tw\n",
    "import pandas as pd\n",
    "import numpy as np"
   ]
  },
  {
   "cell_type": "markdown",
   "metadata": {},
   "source": [
    "Activate the package with the access token to the Tangent API."
   ]
  },
  {
   "cell_type": "code",
   "execution_count": null,
   "metadata": {},
   "outputs": [],
   "source": [
    "import os\n",
    "import json\n",
    "credentials = json.load(open('../credentials.json'))\n",
    "os.environ[\"TANGENT_LICENSE\"] = (credentials['token'])"
   ]
  },
  {
   "cell_type": "markdown",
   "metadata": {
    "application/vnd.databricks.v1+cell": {
     "cellMetadata": {},
     "inputWidgets": {},
     "nuid": "c6a9a29d-bb5e-4b10-a93f-c44e3fbf74ae",
     "showTitle": false,
     "title": ""
    }
   },
   "source": [
    "To visualize the results of this exercise, the following visualization functions can be used."
   ]
  },
  {
   "cell_type": "code",
   "execution_count": null,
   "metadata": {
    "application/vnd.databricks.v1+cell": {
     "cellMetadata": {
      "byteLimit": 2048000,
      "rowLimit": 10000
     },
     "inputWidgets": {},
     "nuid": "d2be681e-fbe1-471d-bbc8-968523d7f831",
     "showTitle": false,
     "title": ""
    }
   },
   "outputs": [],
   "source": [
    "# -------------------------------- Supporting Libraries --------------------------------\n",
    "\n",
    "import plotly.express as px\n",
    "import plotly.graph_objects as go\n",
    "import plotly.subplots as splt\n",
    "\n",
    "class visualization:\n",
    "    def predictor_importance(df):\n",
    "        v_data = df[df['importance']>0]\n",
    "        x_axis = 'name'\n",
    "        y_axis = 'rel_importance'\n",
    "        fig1 = go.Figure(go.Bar(x=v_data[x_axis], y=v_data[y_axis],text=round(v_data[y_axis],2),textposition='auto'))\n",
    "        fig1.update_layout(height=500,width=1000,title_text='Predictor Importances',xaxis_title=x_axis,yaxis_title=y_axis)\n",
    "        print('Predictors not used:'+str(list(df[~(df['importance']>0)]['name'])))\n",
    "        fig1.show()\n",
    "\n",
    "    def feature_importance(df):\n",
    "        fig = px.treemap(df, path=[px.Constant(\"all\"), 'model', 'feature'], values='importance',hover_data='beta',color='feature')\n",
    "        fig.update_traces(root_color=\"lightgrey\")\n",
    "        fig.update_layout(height=600, width=1000, title_text=\"Features\",margin = dict(t=50, l=25, r=25, b=25))\n",
    "        fig.show()\n",
    "\n",
    "    def predictions(df):\n",
    "        fig = splt.make_subplots(rows=1, cols=1, shared_xaxes=True, vertical_spacing=0.02)\n",
    "        color_map = {'training':'green','testing':'red','production':'goldenrod'}\n",
    "        fig.add_trace(go.Scatter(x=df['timestamp'], y=df['target'], name='target',line=dict(color='black')), row=1, col=1)\n",
    "        for forecasting_type in df['type'].unique():\n",
    "            v_data = df[df['type']==forecasting_type].copy()\n",
    "            fig.add_trace(go.Scatter(x=v_data['timestamp'], y=v_data['forecast'], name=forecasting_type,line=dict(color=color_map[forecasting_type])), row=1, col=1)\n",
    "        fig.update_layout(height=500, width=1000, title_text=\"Results\")\n",
    "        fig.show()\n",
    "\n",
    "    def data(df,timestamp,target,predictors):\n",
    "        fig = splt.make_subplots(rows=2, cols=1, shared_xaxes=True, vertical_spacing=0.02)\n",
    "        fig.add_trace(go.Scatter(x=df[timestamp], y=df[target], name=target,connectgaps=True), row=1, col=1)\n",
    "        for idx, p in enumerate(predictors): fig.add_trace(go.Scatter(x=df[timestamp], y=df[p], name=p,connectgaps=True), row=2, col=1)\n",
    "        fig.update_layout(height=600, width=1100, title_text=\"Data visualization\")\n",
    "        fig.show()\n",
    "\n",
    "    def rca(time_series,timestamp_column,target_column,df,rca_tables_df,rca_timestamp,window=48):\n",
    "        rca_tables_df['timestamp'] = pd.to_datetime(rca_tables_df['timestamp'],format='mixed')\n",
    "        df['timestamp'] = pd.to_datetime(df['timestamp'],format='mixed')\n",
    "        try:\n",
    "            df = df.rename(columns={'normal_behavior':'forecast'})\n",
    "        except:\n",
    "            pass\n",
    "        rca_index = df[df['timestamp']==rca_timestamp].index[0]\n",
    "        v_data = time_series.iloc[rca_index-window:rca_index+window]\n",
    "        v_results = df[(df['timestamp']>=v_data[timestamp_column].min())&(df['timestamp']<=v_data[timestamp_column].max())]\n",
    "        v_rca = rca_tables_df[(rca_tables_df['type']=='yhat')&(rca_tables_df['timestamp']==rca_timestamp)]\n",
    "        trace_list_1,trace_list_2,trace_list_3 = [],[],[]\n",
    "        for i in range(len(v_rca)):\n",
    "            yhat_df = pd.concat([v_results[v_results['timestamp']!=rca_timestamp][['timestamp','forecast']],pd.DataFrame(v_rca.iloc[i][['timestamp','value']]).transpose().rename(columns={'value':'forecast'})]).sort_values(by='timestamp')\n",
    "            visibility = True if i==0 else False\n",
    "            trace_list_1.append(go.Scatter(x=list(v_data[timestamp_column]),y=list(v_data[target_column]), visible=visibility, line={'color': 'black'},name='target'))\n",
    "            trace_list_2.append(go.Scatter(x=list(v_results['timestamp']),y=list(v_results['forecast']), visible=visibility, line={'color': 'red'},name='forecast'))\n",
    "            trace_list_3.append(go.Scatter(x=list(yhat_df['timestamp']),y=list(yhat_df['forecast']), visible=visibility, line={'color': 'orange'},name=v_rca.iloc[i]['term']))\n",
    "\n",
    "        fig = go.Figure(data=trace_list_1+trace_list_2+trace_list_3)\n",
    "        fig.add_trace(go.Scatter(x=v_data[timestamp_column], y=v_data[target_column], name=target_column, line=dict(color='black')))\n",
    "        steps = []\n",
    "        num_steps = len(trace_list_1)\n",
    "        for i in range(num_steps):\n",
    "            step = dict(method = 'restyle',args = ['visible', [False] * len(fig.data)])\n",
    "            step['args'][1][i] = True\n",
    "            step['args'][1][i+num_steps] = True\n",
    "            step['args'][1][i+num_steps*2] = True\n",
    "            steps.append(step)\n",
    "        sliders = [dict(steps = steps,y= -0.05)]\n",
    "        fig.layout.sliders = sliders \n",
    "        fig.add_vline(x=rca_timestamp, line_dash=\"dash\", line_color=\"green\")\n",
    "        fig.update_layout(height=600,width=1200,title_text='Model Timestamp Analysis',legend=dict(y=-0.4,x=0.0,orientation='h'))\n",
    "        fig.show()"
   ]
  },
  {
   "cell_type": "markdown",
   "metadata": {
    "application/vnd.databricks.v1+cell": {
     "cellMetadata": {},
     "inputWidgets": {},
     "nuid": "830adc46-681b-4615-93f0-f0fa653bc3f4",
     "showTitle": false,
     "title": ""
    }
   },
   "source": [
    "# 1. Data"
   ]
  },
  {
   "cell_type": "markdown",
   "metadata": {
    "application/vnd.databricks.v1+cell": {
     "cellMetadata": {},
     "inputWidgets": {},
     "nuid": "9a1166b3-24ae-44ff-b3af-3b3ebdaef530",
     "showTitle": false,
     "title": ""
    }
   },
   "source": [
    "The dataset that will be used in this notebook is called belgian_electricity_grid.  \n",
    "It contains historical electricity consumption and weather data as well as weather forecasts and public holiday information.  \n",
    "In the cell below, this dataset is preprocessed and made ready for use with Tangent."
   ]
  },
  {
   "cell_type": "code",
   "execution_count": null,
   "metadata": {
    "application/vnd.databricks.v1+cell": {
     "cellMetadata": {
      "byteLimit": 2048000,
      "rowLimit": 10000
     },
     "inputWidgets": {},
     "nuid": "62015fa1-4701-4ae8-a573-1efb2a0407d9",
     "showTitle": false,
     "title": ""
    }
   },
   "outputs": [],
   "source": [
    "file_path = '../data/belgian_electricity_grid.csv'\n",
    "tangent_dataframe = pd.read_csv(file_path)\n",
    "group_keys = []\n",
    "timestamp_column = \"Timestamp\"\n",
    "target_column = \"Quantity\"\n",
    "predictors = [s for s in list(tangent_dataframe.columns) if s not in group_keys + [timestamp_column, target_column]]\n",
    "tangent_dataframe = tangent_dataframe[group_keys + [timestamp_column, target_column] + predictors].sort_values(by=group_keys + [timestamp_column]).reset_index(drop=True)\n",
    "tangent_dataframe[timestamp_column] = pd.to_datetime(pd.to_datetime(tangent_dataframe[timestamp_column]).dt.strftime(\"%Y-%m-%d %H:%M:%S\"))\n",
    "tangent_dataframe"
   ]
  },
  {
   "cell_type": "markdown",
   "metadata": {
    "application/vnd.databricks.v1+cell": {
     "cellMetadata": {},
     "inputWidgets": {},
     "nuid": "5b9beddb-83a0-48ee-bfe4-b74d91dd5750",
     "showTitle": false,
     "title": ""
    }
   },
   "source": [
    "In time series analysis, when exploring a dataset, it is best practice to visualize the data and learn which patterns might exists in the data that we want Tangent to identify automatically.  \n",
    "In this graph, the target column \"Quantity\" is visualized above and the additional explanatory variables or predictors are visualized below.  \n",
    "Notice that for some predictors, values are available ahead of the last target timestamp throughout the forecast horizon. "
   ]
  },
  {
   "cell_type": "code",
   "execution_count": null,
   "metadata": {
    "application/vnd.databricks.v1+cell": {
     "cellMetadata": {
      "byteLimit": 2048000,
      "rowLimit": 10000
     },
     "inputWidgets": {},
     "nuid": "64bf6867-242a-413e-88bd-d97d5a19178b",
     "showTitle": false,
     "title": ""
    }
   },
   "outputs": [],
   "source": [
    "visualization.data(df=tangent_dataframe,timestamp=timestamp_column,target=target_column,predictors=predictors)"
   ]
  },
  {
   "cell_type": "markdown",
   "metadata": {
    "application/vnd.databricks.v1+cell": {
     "cellMetadata": {},
     "inputWidgets": {},
     "nuid": "49afd0f8-98b0-4774-b3ee-e87f635cacf0",
     "showTitle": false,
     "title": ""
    }
   },
   "source": [
    "# 2. Configuration"
   ]
  },
  {
   "cell_type": "markdown",
   "metadata": {
    "application/vnd.databricks.v1+cell": {
     "cellMetadata": {},
     "inputWidgets": {},
     "nuid": "ac47937d-fc6d-4814-8b8d-2c54e89d1452",
     "showTitle": false,
     "title": ""
    }
   },
   "source": [
    "In the autoforecasting process we process the dataset to build the model and generate predictions in 1 step. This means the configuration needs to be able to preprocess the dataset and configure the engine for model building and prediction. Therefore the configuration consists of two parts: \"preprocessing\" and \"engine\". The configuration below outlines all the possible settings that ccan be applied in AutoForecasting.  \n",
    "\n",
    "Tangent is designed to automate as much as possible. When a parameter is not set, Tangent will assume default settings.  \n",
    "In that case, Tangent will decided how to apply certain settings for you. You can find the final result in the AutoForecasting object after running the job.\n",
    "\n",
    "In this example, default settings will be used. The only configuration will be the forecasting horizon and the training and prediction rows. The forecasting horizon is here set from sample+1 until sample+24. \n",
    "\n",
    "The training rows select the rows in the dataset that will be used for building a model. Here a subset from the first 2/3 of the dataset is selected for training.   \n",
    "The prediction rows select the rows for which an inference is made. This generates both in sample training, out of sample testing and production results. Here the entire dataset is selected.\n",
    "\n",
    "Tangent will automatically recognize the most likely sampling rate, in this case hourly, and build a time series forecasting model to predict values for the next 24 hours. "
   ]
  },
  {
   "cell_type": "code",
   "execution_count": null,
   "metadata": {
    "application/vnd.databricks.v1+cell": {
     "cellMetadata": {
      "byteLimit": 2048000,
      "rowLimit": 10000
     },
     "inputWidgets": {},
     "nuid": "61b98d1a-d9ff-485a-b0a3-4c421117b987",
     "showTitle": false,
     "title": ""
    }
   },
   "outputs": [],
   "source": [
    "auto_forecasting_configuration = {\n",
    "    'preprocessing': {\n",
    "        'training_rows': [{'from': '2021-01-20 00:00:00','to': '2021-10-31 23:00:00'}],\n",
    "        'prediction_rows': [{'from': '2021-01-20 00:00:00','to': '2022-01-18 23:00:00'}],\n",
    "        # 'columns': [\n",
    "            # 'string'\n",
    "        # ],\n",
    "        # 'imputation': {\n",
    "            # 'common': {'type': 'linear','max_gap_length': 0},\n",
    "            # 'individual': [{'column_name': 'string','value': {'type': 'linear','max_gap_length': 0}}]\n",
    "        # },\n",
    "        # 'time_scaling': {\n",
    "        #     'time_scale': {'base_unit': 'hour','value': 1},\n",
    "        #     'aggregations': {\n",
    "        #         'common': 'mean',\n",
    "        #         'individual': [\n",
    "        #             {'column_name':'string','value':'mean'}\n",
    "        #         ]\n",
    "        #     },\n",
    "        #     'drop_empty_rows': True\n",
    "        # }\n",
    "    },\n",
    "    'engine': {\n",
    "        # 'target_column': target_column,\n",
    "        # 'holiday_column': 'string',\n",
    "        'prediction_from': {'base_unit': 'sample','value': 1},\n",
    "        'prediction_to': {'base_unit': 'sample','value': 24},\n",
    "        # 'target_offsets': 'combined',\n",
    "        # 'predictor_offsets': 'common',\n",
    "        # 'allow_offsets': True,\n",
    "        # 'max_offsets_depth': 0,\n",
    "        # 'normalization': True,\n",
    "        # 'max_feature_count': 20,\n",
    "        # 'transformations': [\n",
    "        #     'exponential_moving_average',\n",
    "        #     'rest_of_week',\n",
    "        #     'periodic',\n",
    "        #     'intercept',\n",
    "        #     'piecewise_linear',\n",
    "        #     'time_offsets',\n",
    "        #     'polynomial',\n",
    "        #     'identity',\n",
    "        #     'simple_moving_average',\n",
    "        #     'month',\n",
    "        #     'trend',\n",
    "        #     'day_of_week',\n",
    "        #     'fourier',\n",
    "        #     'public_holidays',\n",
    "        #     'one_hot_encoding'\n",
    "        # ],\n",
    "        # 'daily_cycle': True,\n",
    "        # 'confidence_level': 90,\n",
    "        # 'data_alignment': [\n",
    "        #     {'column_name': 'string','timestamp': 'yyyy-mm-dd hh:mm:ssZ'}\n",
    "        # ],\n",
    "        # 'prediction_boundaries': {\n",
    "        #     'type': 'explicit',\n",
    "        #     'max_value': 100,\n",
    "        #     'min_value': 0\n",
    "        # }\n",
    "    }\n",
    "}"
   ]
  },
  {
   "cell_type": "markdown",
   "metadata": {
    "application/vnd.databricks.v1+cell": {
     "cellMetadata": {},
     "inputWidgets": {},
     "nuid": "2042e070-9b03-4db9-9599-594216005ddf",
     "showTitle": false,
     "title": ""
    }
   },
   "source": [
    "# 3. Tangent"
   ]
  },
  {
   "cell_type": "markdown",
   "metadata": {
    "application/vnd.databricks.v1+cell": {
     "cellMetadata": {},
     "inputWidgets": {},
     "nuid": "13a517a7-03b1-48ac-a089-288a7cf58424",
     "showTitle": false,
     "title": ""
    }
   },
   "source": [
    "In this section, the following steps take place:\n",
    "1. Create and validate a Tangent time series object\n",
    "2. Create an AutoForecasting object by combining a time series and auto forecasting configuration.\n",
    "3. Send a job request by applying the \"run\" function. Now the model and predictions are generated.  "
   ]
  },
  {
   "cell_type": "code",
   "execution_count": null,
   "metadata": {
    "application/vnd.databricks.v1+cell": {
     "cellMetadata": {
      "byteLimit": 2048000,
      "rowLimit": 10000
     },
     "inputWidgets": {},
     "nuid": "0de5b98f-a76a-428c-9d5c-beba37dbdf9b",
     "showTitle": false,
     "title": ""
    }
   },
   "outputs": [],
   "source": [
    "time_series = tw.TimeSeries(tangent_dataframe, timestamp_column)\n",
    "time_series.validate()"
   ]
  },
  {
   "cell_type": "code",
   "execution_count": null,
   "metadata": {
    "application/vnd.databricks.v1+cell": {
     "cellMetadata": {
      "byteLimit": 2048000,
      "rowLimit": 10000
     },
     "inputWidgets": {},
     "nuid": "71d0537c-d644-4288-a5cf-ad2a19ee7989",
     "showTitle": false,
     "title": ""
    }
   },
   "outputs": [],
   "source": [
    "tangent_auto_forecast = tw.AutoForecasting(time_series=time_series, configuration=auto_forecasting_configuration)"
   ]
  },
  {
   "cell_type": "code",
   "execution_count": null,
   "metadata": {
    "application/vnd.databricks.v1+cell": {
     "cellMetadata": {
      "byteLimit": 2048000,
      "rowLimit": 10000
     },
     "inputWidgets": {},
     "nuid": "ac3f1734-c4f8-4bd0-8327-e14056d065c2",
     "showTitle": false,
     "title": ""
    }
   },
   "outputs": [],
   "source": [
    "tangent_auto_forecast.run()"
   ]
  },
  {
   "cell_type": "markdown",
   "metadata": {
    "application/vnd.databricks.v1+cell": {
     "cellMetadata": {},
     "inputWidgets": {},
     "nuid": "946832a5-464b-4989-ac92-53f75aaf3462",
     "showTitle": false,
     "title": ""
    }
   },
   "source": [
    "Let's extract the model from the AutoForecasting object to get insights in the model building process."
   ]
  },
  {
   "cell_type": "code",
   "execution_count": null,
   "metadata": {
    "application/vnd.databricks.v1+cell": {
     "cellMetadata": {
      "byteLimit": 2048000,
      "rowLimit": 10000
     },
     "inputWidgets": {},
     "nuid": "f9fe5fb9-b489-4687-bbd5-6fa48d012818",
     "showTitle": false,
     "title": ""
    }
   },
   "outputs": [],
   "source": [
    "tangent_auto_forecast_model = tangent_auto_forecast.model.to_dict()"
   ]
  },
  {
   "cell_type": "markdown",
   "metadata": {
    "application/vnd.databricks.v1+cell": {
     "cellMetadata": {},
     "inputWidgets": {},
     "nuid": "421b4c6c-3789-4baa-84f3-69034d09875a",
     "showTitle": false,
     "title": ""
    }
   },
   "source": [
    "# 4. Results"
   ]
  },
  {
   "cell_type": "markdown",
   "metadata": {
    "application/vnd.databricks.v1+cell": {
     "cellMetadata": {},
     "inputWidgets": {},
     "nuid": "fafda126-6f04-4ae2-ae0e-20f34d838678",
     "showTitle": false,
     "title": ""
    }
   },
   "source": [
    "The model and the AutoForecasting object can now post processed into tables that can either be stored, analyzed or visualized by the user.  \n",
    "Below, the properties and features of the model are extracted. In addition, information about the type of forecasts is added to table with predictions."
   ]
  },
  {
   "cell_type": "code",
   "execution_count": null,
   "metadata": {
    "application/vnd.databricks.v1+cell": {
     "cellMetadata": {
      "byteLimit": 2048000,
      "rowLimit": 10000
     },
     "inputWidgets": {},
     "nuid": "def63a0d-f78a-4cc9-a80d-1f496e82b125",
     "showTitle": false,
     "title": ""
    }
   },
   "outputs": [],
   "source": [
    "properties_df = tw.PostProcessing().properties(model=tangent_auto_forecast_model)\n",
    "features_df = tw.PostProcessing().features(model=tangent_auto_forecast_model)\n",
    "result_table_df = tw.PostProcessing().result_table(forecasting=tangent_auto_forecast)"
   ]
  },
  {
   "cell_type": "markdown",
   "metadata": {
    "application/vnd.databricks.v1+cell": {
     "cellMetadata": {},
     "inputWidgets": {},
     "nuid": "396c5e57-bcac-4911-87e5-99266d41839a",
     "showTitle": false,
     "title": ""
    }
   },
   "source": [
    "# 5. Visualization"
   ]
  },
  {
   "cell_type": "markdown",
   "metadata": {
    "application/vnd.databricks.v1+cell": {
     "cellMetadata": {},
     "inputWidgets": {},
     "nuid": "d4bc3131-b68f-4170-ab3d-763a713811d3",
     "showTitle": false,
     "title": ""
    }
   },
   "source": [
    "All results can be easily visualized using the provided templates.  \n",
    "The graph below shows:\n",
    "- The __\"target\"__ or historical consumption values.\n",
    "- The __\"training\"__ forecast which are the in sample results that lie on top of the training data.  \n",
    "These can be used to learn if Tangent has created a model that fits the original training data well.\n",
    "They show several 24 hour ahead forecasts throughout the training period.\n",
    "- The __\"testing\"__ forecast which are the out of sample results that lie on top of the data that were not seen by Tangent during model building.  \n",
    "These can be used to learn if Tangent has created a model that also works well outside of the original training data.\n",
    "They show several 24 hour ahead forecasts throughout the testing period.\n",
    "- the __\"production\"__ forecast which contains the out of sample predictions and are the objective of this exercise.  \n",
    "In this example, we can recognize a 24 hour ahead forecast relative from the last available target value.  \n",
    "\n",
    "When exploring the graph, we can recognize that a useful pattern seems to have been identified by Tangent which allows us to accurately forecast 24 hours into the future."
   ]
  },
  {
   "cell_type": "code",
   "execution_count": null,
   "metadata": {
    "application/vnd.databricks.v1+cell": {
     "cellMetadata": {
      "byteLimit": 2048000,
      "rowLimit": 10000
     },
     "inputWidgets": {},
     "nuid": "e48d7e74-ee34-453b-bd41-27fcda46e821",
     "showTitle": false,
     "title": ""
    }
   },
   "outputs": [],
   "source": [
    "visualization.predictions(result_table_df)"
   ]
  },
  {
   "cell_type": "markdown",
   "metadata": {
    "application/vnd.databricks.v1+cell": {
     "cellMetadata": {},
     "inputWidgets": {},
     "nuid": "09ef8145-234d-4421-b316-8ea139c44f06",
     "showTitle": false,
     "title": ""
    }
   },
   "source": [
    "In order to understand which patterns Tangent has identified to achieve this forecast, we can visualize several levels of insights.  \n",
    "\n",
    "Firstly, the properties, which show the relative importance of each of the columns of the dataset.  \n",
    "Here, we learn which columns contributed a lot of predictive value to the model and where a lot of useful features have been found.  \n",
    "If there are predictors from which no features were included in the model building by Tangent, then they will be listed here as well."
   ]
  },
  {
   "cell_type": "code",
   "execution_count": null,
   "metadata": {
    "application/vnd.databricks.v1+cell": {
     "cellMetadata": {
      "byteLimit": 2048000,
      "rowLimit": 10000
     },
     "inputWidgets": {},
     "nuid": "bd9b0915-f114-4891-a840-d5f8a85fc334",
     "showTitle": false,
     "title": ""
    }
   },
   "outputs": [],
   "source": [
    "visualization.predictor_importance(properties_df)"
   ]
  },
  {
   "cell_type": "markdown",
   "metadata": {
    "application/vnd.databricks.v1+cell": {
     "cellMetadata": {},
     "inputWidgets": {},
     "nuid": "d7a977b0-8565-4bc7-b888-cdf62e4ebc9d",
     "showTitle": false,
     "title": ""
    }
   },
   "source": [
    "Secondly, the actual features from the Tangent model can be visualized as well.  \n",
    "In this treemap graph, the relative importance of each of the features from each model in the model zoo can be quickly identified.  \n",
    "These are the predictive patterns that are hidden within the data that Tangent has automatically extracted from the data.  \n",
    "\n",
    "Tangent builds multihorizon time series models, meaning for each step in the forecasting horizon, Tangent will by default build a unique model. These models are then combined in a model zoo which is the result that the user receices.  \n",
    "With this capability, Tangent remains adaptable in modeling different patterns that can be usefull to seperate along the forecasting horizon.  \n",
    "Also, the further out in the horizon, the more uncertainty exists, and this can be easily managed by creating different models in a model zoo. "
   ]
  },
  {
   "cell_type": "code",
   "execution_count": null,
   "metadata": {
    "application/vnd.databricks.v1+cell": {
     "cellMetadata": {
      "byteLimit": 2048000,
      "rowLimit": 10000
     },
     "inputWidgets": {},
     "nuid": "5ed00259-399f-4b61-a909-52b0a9d30832",
     "showTitle": false,
     "title": ""
    }
   },
   "outputs": [],
   "source": [
    "visualization.feature_importance(features_df)"
   ]
  },
  {
   "cell_type": "markdown",
   "metadata": {
    "application/vnd.databricks.v1+cell": {
     "cellMetadata": {},
     "inputWidgets": {},
     "nuid": "fd08cdb9-12a5-47c6-b610-df3d0421ed67",
     "showTitle": false,
     "title": ""
    }
   },
   "source": [
    "# 6. Root Cause Analysis"
   ]
  },
  {
   "cell_type": "markdown",
   "metadata": {
    "application/vnd.databricks.v1+cell": {
     "cellMetadata": {},
     "inputWidgets": {},
     "nuid": "e885f7a0-60e7-47fe-baf7-9bd786c7d5a3",
     "showTitle": false,
     "title": ""
    }
   },
   "source": [
    "An extended capability of Tangent is to apply Root Cause Analysis (RCA) to the predictions.  \n",
    "With RCA, we can combine the information from both the features in the model as well as the predictions and apply this to a single timestamp in the dataset.  \n",
    "\n",
    "A Tangent model is a cumulative addition of identified features that each explain a bit more of the variance in the target signal.  \n",
    "We can visualize the addition of these features to the model and learn which features contribute to either useful movements or possibly unexpected movements in the prediction.\n",
    "\n",
    "The example below first extracts from Tangent how each and every single prediction is built up. This information is processed and from there, the user can select a specific timestamp to analyze and choose a window around that timestamp for additional context."
   ]
  },
  {
   "cell_type": "code",
   "execution_count": null,
   "metadata": {
    "application/vnd.databricks.v1+cell": {
     "cellMetadata": {
      "byteLimit": 2048000,
      "rowLimit": 10000
     },
     "inputWidgets": {},
     "nuid": "418b8098-2593-4d25-8a30-5c20310afbc3",
     "showTitle": false,
     "title": ""
    }
   },
   "outputs": [],
   "source": [
    "tangent_forecast_rca = tangent_auto_forecast.rca()"
   ]
  },
  {
   "cell_type": "code",
   "execution_count": null,
   "metadata": {
    "application/vnd.databricks.v1+cell": {
     "cellMetadata": {
      "byteLimit": 2048000,
      "rowLimit": 10000
     },
     "inputWidgets": {},
     "nuid": "9b684caa-b1dd-4a9a-b337-92be747d7cfb",
     "showTitle": false,
     "title": ""
    }
   },
   "outputs": [],
   "source": [
    "rca_tables = []\n",
    "for model_index in sorted(tangent_forecast_rca.keys()):\n",
    "    rca_table = tangent_forecast_rca[model_index].melt(id_vars='timestamp')\n",
    "    rca_table['model_index'] = model_index\n",
    "    rca_tables.append(rca_table)\n",
    "rca_tables_df = pd.concat(rca_tables)\n",
    "rca_tables_df['type'] = np.where(rca_tables_df['variable'].str.contains('term '),'term',np.where(rca_tables_df['variable'].str.contains('yhat '),'yhat','other'))\n",
    "rca_tables_df['term'] = np.where(rca_tables_df['type'].isin(['term','yhat']),rca_tables_df['variable'].str.replace('term ','').str.replace('yhat ',''),np.nan)"
   ]
  },
  {
   "cell_type": "markdown",
   "metadata": {
    "application/vnd.databricks.v1+cell": {
     "cellMetadata": {},
     "inputWidgets": {},
     "nuid": "6134b97b-3c12-4f01-9b7e-46dba3acd07f",
     "showTitle": false,
     "title": ""
    }
   },
   "source": [
    "Move the slider from left to right to add the different features into the model to eventually come to the final predicted value.  \n",
    "The black line are the original measured values. The orange line shows the RCA values that dynamically moves as features are added.  \n",
    "The red line shows the eventual prediction that will correspond with the orange line when the slider is moved entirely to the right. "
   ]
  },
  {
   "cell_type": "code",
   "execution_count": null,
   "metadata": {
    "application/vnd.databricks.v1+cell": {
     "cellMetadata": {
      "byteLimit": 2048000,
      "rowLimit": 10000
     },
     "inputWidgets": {},
     "nuid": "35f98808-8608-4367-9ecc-97ea7a927a18",
     "showTitle": false,
     "title": ""
    }
   },
   "outputs": [],
   "source": [
    "rca_timestamp = pd.to_datetime('2021-08-20 17:00:00')\n",
    "window = 48\n",
    "visualization.rca(\n",
    "    time_series=tangent_dataframe,\n",
    "    timestamp_column=timestamp_column,\n",
    "    target_column=target_column,\n",
    "    df=result_table_df,\n",
    "    rca_tables_df=rca_tables_df,\n",
    "    rca_timestamp=rca_timestamp,\n",
    "    window=window\n",
    "    )"
   ]
  }
 ],
 "metadata": {
  "application/vnd.databricks.v1+notebook": {
   "dashboards": [],
   "environmentMetadata": null,
   "language": "python",
   "notebookMetadata": {
    "pythonIndentUnit": 4
   },
   "notebookName": "203 AutoForecasting",
   "widgets": {}
  },
  "kernelspec": {
   "display_name": "Python 3 (ipykernel)",
   "language": "python",
   "name": "python3"
  },
  "language_info": {
   "codemirror_mode": {
    "name": "ipython",
    "version": 3
   },
   "file_extension": ".py",
   "mimetype": "text/x-python",
   "name": "python",
   "nbconvert_exporter": "python",
   "pygments_lexer": "ipython3",
   "version": "3.11.5"
  }
 },
 "nbformat": 4,
 "nbformat_minor": 4
}
