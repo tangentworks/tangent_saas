{
 "cells": [
  {
   "cell_type": "markdown",
   "metadata": {
    "application/vnd.databricks.v1+cell": {
     "cellMetadata": {},
     "inputWidgets": {},
     "nuid": "89fae617-e0d9-44ce-890b-e6a54b12e3a6",
     "showTitle": false,
     "title": ""
    }
   },
   "source": [
    "# Tangent Databricks Tutorial - Overview"
   ]
  },
  {
   "cell_type": "markdown",
   "metadata": {
    "application/vnd.databricks.v1+cell": {
     "cellMetadata": {},
     "inputWidgets": {},
     "nuid": "1a7d9dd1-a30d-4a40-9709-8f8b7dcc8b95",
     "showTitle": false,
     "title": ""
    }
   },
   "source": [
    "This document shows each of the classes and functions that exist in the Tangent Databricks Python package.  \n",
    "You can also find the configurations and learn how to correctly use each class and function."
   ]
  },
  {
   "cell_type": "markdown",
   "metadata": {
    "application/vnd.databricks.v1+cell": {
     "cellMetadata": {},
     "inputWidgets": {},
     "nuid": "a455560f-7ec4-4179-918a-d261a7279db8",
     "showTitle": false,
     "title": ""
    }
   },
   "source": [
    "# 1. Setup"
   ]
  },
  {
   "cell_type": "markdown",
   "metadata": {
    "application/vnd.databricks.v1+cell": {
     "cellMetadata": {},
     "inputWidgets": {},
     "nuid": "c0653c11-4067-40b1-9ec4-873178efe411",
     "showTitle": false,
     "title": ""
    }
   },
   "source": [
    "Import the tangent_works Python package and other support packages."
   ]
  },
  {
   "cell_type": "code",
   "execution_count": null,
   "metadata": {
    "application/vnd.databricks.v1+cell": {
     "cellMetadata": {
      "byteLimit": 2048000,
      "rowLimit": 10000
     },
     "inputWidgets": {},
     "nuid": "d232c353-8c91-4825-bd01-a6569b9f4429",
     "showTitle": false,
     "title": ""
    }
   },
   "outputs": [],
   "source": [
    "import tangent_works as tw\n",
    "import pandas as pd"
   ]
  },
  {
   "cell_type": "markdown",
   "metadata": {},
   "source": [
    "Activate the package with the access token to the Tangent API."
   ]
  },
  {
   "cell_type": "code",
   "execution_count": null,
   "metadata": {},
   "outputs": [],
   "source": [
    "import os\n",
    "import json\n",
    "credentials = json.load(open('../credentials.json'))\n",
    "os.environ[\"TANGENT_LICENSE\"] = (credentials['token'])"
   ]
  },
  {
   "cell_type": "markdown",
   "metadata": {
    "application/vnd.databricks.v1+cell": {
     "cellMetadata": {},
     "inputWidgets": {},
     "nuid": "a1c100ee-1264-4c1a-88e6-916bf9559c4e",
     "showTitle": false,
     "title": ""
    }
   },
   "source": [
    "To run this notebook, a synthetic dataset is prepared below."
   ]
  },
  {
   "cell_type": "code",
   "execution_count": null,
   "metadata": {
    "application/vnd.databricks.v1+cell": {
     "cellMetadata": {
      "byteLimit": 2048000,
      "rowLimit": 10000
     },
     "inputWidgets": {},
     "nuid": "22077424-6551-48b1-91c7-200d187e5d7b",
     "showTitle": false,
     "title": ""
    }
   },
   "outputs": [],
   "source": [
    "dataset = {'columns':['timestamp', 'target', 'predictor', 'label'],\n",
    "'data':[\n",
    "    ['2022-08-01 00:00:00', 7269, 338.81, 0],\n",
    "    ['2022-08-01 01:00:00', 7049, 320.86, 0],\n",
    "    ['2022-08-01 02:00:00', 7013, 329.72, 0],\n",
    "    ['2022-08-01 03:00:00', 7292, 380.0, 0],\n",
    "    ['2022-08-01 04:00:00', 7675, 429.66, 0],\n",
    "    ['2022-08-01 05:00:00', 8299, 467.91, 0],\n",
    "    ['2022-08-01 06:00:00', 8844, 474.9, 0],\n",
    "    ['2022-08-01 07:00:00', 9253, 461.66, 0],\n",
    "    ['2022-08-01 08:00:00', 9546, 446.72, 0],\n",
    "    ['2022-08-01 09:00:00', 9808, 433.25, 0],\n",
    "    ['2022-08-01 10:00:00', 9847, 385.88, 0],\n",
    "    ['2022-08-01 11:00:00', 9719, 344.81, 0],\n",
    "    ['2022-08-01 12:00:00', 9566, 310.97, ],\n",
    "    ['2022-08-01 13:00:00', 9584, 317.82, ],\n",
    "    ['2022-08-01 14:00:00', 9412, 344.65, ],\n",
    "    ['2022-08-01 15:00:00', 9375, 397.27, ],\n",
    "    ['2022-08-01 16:00:00', 9477, 421.24, 0],\n",
    "    ['2022-08-01 17:00:00', 9279, 434.33, 0],\n",
    "    ['2022-08-01 18:00:00', 8943, 473.33, 0],\n",
    "    ['2022-08-01 19:00:00', 8663, 469.99, 0],\n",
    "    ['2022-08-01 20:00:00', 8725, 475.62, 0],\n",
    "    ['2022-08-01 21:00:00', 8487, 408.11, 0],\n",
    "    ['2022-08-01 22:00:00', 7893, 440.98, 0],\n",
    "    ['2022-08-01 23:00:00', 7540, 390.1, 1],\n",
    "    ['2022-08-02 00:00:00', 7265, 382.1, 1],\n",
    "    ['2022-08-02 01:00:00', 7110, 359.89, 0],\n",
    "    ['2022-08-02 02:00:00', 7164, 352.69, 0],\n",
    "    ['2022-08-02 03:00:00', 7358, 393.03, 0],\n",
    "    ['2022-08-02 04:00:00', 7674, 457.04, 0],\n",
    "    ['2022-08-02 05:00:00', 8279, 479.9, 1],\n",
    "    ['2022-08-02 06:00:00', 8851, 478.9, 0],\n",
    "    ['2022-08-02 07:00:00', 9333, 363.5, 0],\n",
    "    ['2022-08-02 08:00:00', 9571, 331.7, 0],\n",
    "    ['2022-08-02 09:00:00', 9658, 250.0, 0],\n",
    "    ['2022-08-02 10:00:00', 9843, 75.46, 0],\n",
    "    ['2022-08-02 11:00:00', 9923, 92.29, 0],\n",
    "    ['2022-08-02 12:00:00', 9890, -37.56, 0],\n",
    "    ['2022-08-02 13:00:00', 9689, -2.01, 0],\n",
    "    ['2022-08-02 14:00:00', 9553, 179.0, 0],\n",
    "    ['2022-08-02 15:00:00', 9757, 179.13, 0],\n",
    "    ['2022-08-02 16:00:00', 9842, 299.1, 0],\n",
    "    ['2022-08-02 17:00:00', 9611, 367.31, 0],\n",
    "    ['2022-08-02 18:00:00', 9340, 329.44, 0],\n",
    "    ['2022-08-02 19:00:00', 9138, 379.22, 0],\n",
    "    ['2022-08-02 20:00:00', 9313, 386.8, 0],\n",
    "    ['2022-08-02 21:00:00', 8871, 387.2, 0],\n",
    "    ['2022-08-02 22:00:00', 8350, 244.6, 0],\n",
    "    ['2022-08-02 23:00:00', 7919, 297.93, 0]\n",
    "]}\n",
    "tangent_dataframe = pd.DataFrame(dataset['data'],columns=dataset['columns'])\n",
    "\n",
    "group_keys = []\n",
    "timestamp_column = \"timestamp\"\n",
    "target_column = \"target\"\n",
    "\n",
    "predictors = [s for s in list(tangent_dataframe.columns) if s not in group_keys + [timestamp_column, target_column]]\n",
    "tangent_dataframe = tangent_dataframe[group_keys + [timestamp_column, target_column] + predictors].sort_values(by=group_keys + [timestamp_column]).reset_index(drop=True)\n",
    "tangent_dataframe[timestamp_column] = pd.to_datetime(pd.to_datetime(tangent_dataframe[timestamp_column]).dt.strftime(\"%Y-%m-%d %H:%M:%S\"))"
   ]
  },
  {
   "cell_type": "markdown",
   "metadata": {
    "application/vnd.databricks.v1+cell": {
     "cellMetadata": {},
     "inputWidgets": {},
     "nuid": "f00166c1-960a-461c-8502-7358312379d2",
     "showTitle": false,
     "title": ""
    }
   },
   "source": [
    "# 2. Tangent"
   ]
  },
  {
   "cell_type": "markdown",
   "metadata": {
    "application/vnd.databricks.v1+cell": {
     "cellMetadata": {},
     "inputWidgets": {},
     "nuid": "5576e17e-044c-4b73-b634-9265052d6330",
     "showTitle": false,
     "title": ""
    }
   },
   "source": [
    "This section will explain all the functionalities of the Python package that communicate with the Tangent Core."
   ]
  },
  {
   "cell_type": "markdown",
   "metadata": {
    "application/vnd.databricks.v1+cell": {
     "cellMetadata": {},
     "inputWidgets": {},
     "nuid": "2fa7d607-57e4-4679-9200-87fa3471eebe",
     "showTitle": false,
     "title": ""
    }
   },
   "source": [
    "## 2.1 TimeSeries"
   ]
  },
  {
   "cell_type": "markdown",
   "metadata": {
    "application/vnd.databricks.v1+cell": {
     "cellMetadata": {},
     "inputWidgets": {},
     "nuid": "65c1f2f4-08f2-4261-a189-2b98437f34eb",
     "showTitle": false,
     "title": ""
    }
   },
   "source": [
    "### 2.1.1 class"
   ]
  },
  {
   "cell_type": "markdown",
   "metadata": {
    "application/vnd.databricks.v1+cell": {
     "cellMetadata": {},
     "inputWidgets": {},
     "nuid": "62219479-2f0b-4e62-a2b0-7b3f377e48f4",
     "showTitle": false,
     "title": ""
    }
   },
   "source": [
    "The TimeSeries class creates a time series object that is ready to be analyzed by Tangent.  \n",
    "The purpose of this class is to validate the format of the data.  \n",
    "It requires a pandas dataframe with time series data and the user can optionally describe which column is the timestamp column and which columns are the group_keys for panel data."
   ]
  },
  {
   "cell_type": "code",
   "execution_count": null,
   "metadata": {
    "application/vnd.databricks.v1+cell": {
     "cellMetadata": {
      "byteLimit": 2048000,
      "rowLimit": 10000
     },
     "inputWidgets": {},
     "nuid": "84631cbc-4d66-468c-8c07-d256b670a088",
     "showTitle": false,
     "title": ""
    }
   },
   "outputs": [],
   "source": [
    "tw_timeseries = tw.TimeSeries(\n",
    "    data = tangent_dataframe,\n",
    "    # timestamp_column = timestamp_column,\n",
    "    # group_key_columns = []\n",
    "    )"
   ]
  },
  {
   "cell_type": "markdown",
   "metadata": {
    "application/vnd.databricks.v1+cell": {
     "cellMetadata": {},
     "inputWidgets": {},
     "nuid": "bf7a292c-0888-4322-9eed-833ecd71a9e5",
     "showTitle": false,
     "title": ""
    }
   },
   "source": [
    "### 2.1.2 validate"
   ]
  },
  {
   "cell_type": "markdown",
   "metadata": {
    "application/vnd.databricks.v1+cell": {
     "cellMetadata": {},
     "inputWidgets": {},
     "nuid": "b00ba3c2-fb71-425d-a017-5a78f027d65c",
     "showTitle": false,
     "title": ""
    }
   },
   "source": [
    "This function validates the correctness of the dataset. It looks at column names and types, timestamps and datapoints to make sure this timeseries object will be able to pass through Tangent."
   ]
  },
  {
   "cell_type": "code",
   "execution_count": null,
   "metadata": {
    "application/vnd.databricks.v1+cell": {
     "cellMetadata": {
      "byteLimit": 2048000,
      "rowLimit": 10000
     },
     "inputWidgets": {},
     "nuid": "a27c8b26-c4c4-4ba8-9d6f-6b3a52420254",
     "showTitle": false,
     "title": ""
    }
   },
   "outputs": [],
   "source": [
    "tw_timeseries.validate(\n",
    "    # inplace = True\n",
    "    )"
   ]
  },
  {
   "cell_type": "markdown",
   "metadata": {
    "application/vnd.databricks.v1+cell": {
     "cellMetadata": {},
     "inputWidgets": {},
     "nuid": "d1ef470f-860a-4106-98da-c2abbd8dbc45",
     "showTitle": false,
     "title": ""
    }
   },
   "source": [
    "### 2.1.3 validate_timestamps_alignment"
   ]
  },
  {
   "cell_type": "markdown",
   "metadata": {
    "application/vnd.databricks.v1+cell": {
     "cellMetadata": {},
     "inputWidgets": {},
     "nuid": "e23952cf-2dd2-4052-a813-848a5e159daf",
     "showTitle": false,
     "title": ""
    }
   },
   "source": [
    "This function validates the alignment of timestamps across all columns with respect to the sampling period. It makes sure the data situation in the time series is correctly setup."
   ]
  },
  {
   "cell_type": "code",
   "execution_count": null,
   "metadata": {
    "application/vnd.databricks.v1+cell": {
     "cellMetadata": {
      "byteLimit": 2048000,
      "rowLimit": 10000
     },
     "inputWidgets": {},
     "nuid": "28694e9a-599f-4a82-bd85-cea56725c9c0",
     "showTitle": false,
     "title": ""
    }
   },
   "outputs": [],
   "source": [
    "tw_timeseries.validate_timestamps_alignment(\n",
    "    # inplace = True\n",
    ")"
   ]
  },
  {
   "cell_type": "markdown",
   "metadata": {
    "application/vnd.databricks.v1+cell": {
     "cellMetadata": {},
     "inputWidgets": {},
     "nuid": "95d58a54-cf70-4dfd-a09e-f98d72169a4c",
     "showTitle": false,
     "title": ""
    }
   },
   "source": [
    "### 2.1.4 time_scaling"
   ]
  },
  {
   "cell_type": "markdown",
   "metadata": {
    "application/vnd.databricks.v1+cell": {
     "cellMetadata": {},
     "inputWidgets": {},
     "nuid": "549eb08f-71e5-46a8-a5f4-4d6db2f4699c",
     "showTitle": false,
     "title": ""
    }
   },
   "source": [
    "With this function the user can rescale the data to a desired sampling rate and user several aggregation methods to be applied across all variables as well as individually."
   ]
  },
  {
   "cell_type": "code",
   "execution_count": null,
   "metadata": {
    "application/vnd.databricks.v1+cell": {
     "cellMetadata": {
      "byteLimit": 2048000,
      "rowLimit": 10000
     },
     "inputWidgets": {},
     "nuid": "045ae43a-ecca-4108-a591-92a5b87723c3",
     "showTitle": false,
     "title": ""
    }
   },
   "outputs": [],
   "source": [
    "time_scaling_configuration = {\n",
    "    'time_scale': {\n",
    "        'base_unit': 'hour',\n",
    "        'value': 2\n",
    "        },\n",
    "    'aggregations': {\n",
    "        'common': 'mean',\n",
    "        # 'individual': [\n",
    "        #     {\n",
    "        #         'column_name':'string',\n",
    "        #         'value':'mean'\n",
    "        #         }\n",
    "        #     ]\n",
    "        }\n",
    "}"
   ]
  },
  {
   "cell_type": "code",
   "execution_count": null,
   "metadata": {
    "application/vnd.databricks.v1+cell": {
     "cellMetadata": {
      "byteLimit": 2048000,
      "rowLimit": 10000
     },
     "inputWidgets": {},
     "nuid": "fd64f37e-aef5-4b2f-9951-2237417378f7",
     "showTitle": false,
     "title": ""
    }
   },
   "outputs": [],
   "source": [
    "tw_timeseries_time_scaled =  tw_timeseries.time_scaling(configuration=time_scaling_configuration)"
   ]
  },
  {
   "cell_type": "markdown",
   "metadata": {
    "application/vnd.databricks.v1+cell": {
     "cellMetadata": {},
     "inputWidgets": {},
     "nuid": "cda4e71d-985f-4d47-8d9d-0270fed94e88",
     "showTitle": false,
     "title": ""
    }
   },
   "source": [
    "### 2.1.5 imputation"
   ]
  },
  {
   "cell_type": "markdown",
   "metadata": {
    "application/vnd.databricks.v1+cell": {
     "cellMetadata": {},
     "inputWidgets": {},
     "nuid": "5e94aa56-f4af-4e9b-8502-aa023ad44bdc",
     "showTitle": false,
     "title": ""
    }
   },
   "source": [
    "With this function the user can impute missing values in the data and fill gaps in the records.\n"
   ]
  },
  {
   "cell_type": "code",
   "execution_count": null,
   "metadata": {
    "application/vnd.databricks.v1+cell": {
     "cellMetadata": {
      "byteLimit": 2048000,
      "rowLimit": 10000
     },
     "inputWidgets": {},
     "nuid": "d1e32760-fd76-48ce-9d6e-dc6a88a5d64d",
     "showTitle": false,
     "title": ""
    }
   },
   "outputs": [],
   "source": [
    "imputation_configuration = {\n",
    "    'common': {\n",
    "        'type': 'linear',\n",
    "        'max_gap_length': 6\n",
    "        },\n",
    "    # 'individual': [\n",
    "    #     {\n",
    "    #         'column_name': 'string',\n",
    "    #         'value': {\n",
    "    #             'type': 'linear',\n",
    "    #             'max_gap_length': 0\n",
    "    #             }\n",
    "    #         }\n",
    "    #     ]\n",
    "}"
   ]
  },
  {
   "cell_type": "code",
   "execution_count": null,
   "metadata": {
    "application/vnd.databricks.v1+cell": {
     "cellMetadata": {
      "byteLimit": 2048000,
      "rowLimit": 10000
     },
     "inputWidgets": {},
     "nuid": "87dc8add-68f9-46d1-9859-e76bb6c096e2",
     "showTitle": false,
     "title": ""
    }
   },
   "outputs": [],
   "source": [
    "tw_timeseries_imputed =  tw_timeseries.imputation(configuration=imputation_configuration)"
   ]
  },
  {
   "cell_type": "markdown",
   "metadata": {
    "application/vnd.databricks.v1+cell": {
     "cellMetadata": {},
     "inputWidgets": {},
     "nuid": "36b52a15-4963-43fe-a623-0f6f2bb0e22b",
     "showTitle": false,
     "title": ""
    }
   },
   "source": [
    "## 2.2 Forecasting"
   ]
  },
  {
   "cell_type": "markdown",
   "metadata": {
    "application/vnd.databricks.v1+cell": {
     "cellMetadata": {},
     "inputWidgets": {},
     "nuid": "1e3c1c6a-084b-4d20-931a-22ac0ca7514f",
     "showTitle": false,
     "title": ""
    }
   },
   "source": [
    "The first capability of Tangent is to build and use forecasting models.  \n",
    "The following functions for forecasting are available in the Tangent Python package."
   ]
  },
  {
   "cell_type": "markdown",
   "metadata": {
    "application/vnd.databricks.v1+cell": {
     "cellMetadata": {},
     "inputWidgets": {},
     "nuid": "863643f3-dff5-4e1e-8211-1256cff6a9f4",
     "showTitle": false,
     "title": ""
    }
   },
   "source": [
    "### 2.2.1 configurations"
   ]
  },
  {
   "cell_type": "markdown",
   "metadata": {
    "application/vnd.databricks.v1+cell": {
     "cellMetadata": {},
     "inputWidgets": {},
     "nuid": "a683674f-1ec3-4684-9146-6fa62b11210e",
     "showTitle": false,
     "title": ""
    }
   },
   "source": [
    "Tangent is designed to automate as much as possible in the modeling process.  \n",
    "There are however configuration settings that you can apply.  \n",
    "Below you will find the configuration settings for the different functions.  \n",
    "When specific settings are not included, Tangent will assume default settings and decide automatically which settings to apply in the model building process."
   ]
  },
  {
   "cell_type": "markdown",
   "metadata": {
    "application/vnd.databricks.v1+cell": {
     "cellMetadata": {},
     "inputWidgets": {},
     "nuid": "4b10b766-2265-4356-9a9d-7efbccd058ef",
     "showTitle": false,
     "title": ""
    }
   },
   "source": [
    "#### 2.2.1.1 build_model"
   ]
  },
  {
   "cell_type": "code",
   "execution_count": null,
   "metadata": {
    "application/vnd.databricks.v1+cell": {
     "cellMetadata": {
      "byteLimit": 2048000,
      "rowLimit": 10000
     },
     "inputWidgets": {},
     "nuid": "d3296eb7-eae2-4ff6-b389-28dbbf1fab8f",
     "showTitle": false,
     "title": ""
    }
   },
   "outputs": [],
   "source": [
    "build_model_configuration = {\n",
    "    # 'target_column': 'string',\n",
    "    # 'categorical_columns': [\n",
    "    #     'string'\n",
    "    # ],\n",
    "    # 'holiday_column': 'string',\n",
    "    # 'prediction_from': {\n",
    "    #     'base_unit': 'sample',\n",
    "    #     'value': 1\n",
    "    # },\n",
    "    # 'prediction_to': {\n",
    "    #     'base_unit': 'sample',\n",
    "    #     'value': 24\n",
    "    # },\n",
    "    # 'target_offsets': 'combined',\n",
    "    # 'predictor_offsets': 'common',\n",
    "    # 'allow_offsets': True,\n",
    "    # 'max_offsets_depth': 0,\n",
    "    # 'normalization': True,\n",
    "    # 'max_feature_count': 20,\n",
    "    # 'transformations': [\n",
    "    #     'exponential_moving_average',\n",
    "    #     'rest_of_week',\n",
    "    #     'periodic',\n",
    "    #     'intercept',\n",
    "    #     'piecewise_linear',\n",
    "    #     'time_offsets',\n",
    "    #     'polynomial',\n",
    "    #     'identity',\n",
    "    #     'simple_moving_average',\n",
    "    #     'month',\n",
    "    #     'trend',\n",
    "    #     'day_of_week',\n",
    "    #     'fourier',\n",
    "    #     'public_holidays',\n",
    "    #     'one_hot_encoding'\n",
    "    # ],\n",
    "    # 'daily_cycle': True,\n",
    "    # 'confidence_level': 90,\n",
    "    # 'data_alignment': [\n",
    "    #     {\n",
    "    #         'column_name': 'string',\n",
    "    #         'timestamp': 'yyyy-mm-dd hh:mm:ssZ'\n",
    "    #     }\n",
    "    # ],\n",
    "}"
   ]
  },
  {
   "cell_type": "markdown",
   "metadata": {
    "application/vnd.databricks.v1+cell": {
     "cellMetadata": {},
     "inputWidgets": {},
     "nuid": "3574b624-0ca0-4901-8f34-a25774952ebd",
     "showTitle": false,
     "title": ""
    }
   },
   "source": [
    "#### 2.2.1.2 predict"
   ]
  },
  {
   "cell_type": "code",
   "execution_count": null,
   "metadata": {
    "application/vnd.databricks.v1+cell": {
     "cellMetadata": {
      "byteLimit": 2048000,
      "rowLimit": 10000
     },
     "inputWidgets": {},
     "nuid": "5596f855-6b8d-44bd-9b68-3894fcff2be0",
     "showTitle": false,
     "title": ""
    }
   },
   "outputs": [],
   "source": [
    "predict_configuration = {\n",
    "    # 'prediction_from': {\n",
    "    #     'base_unit': 'sample',\n",
    "    #     'value': 1\n",
    "    #     },\n",
    "    # 'prediction_to': {\n",
    "    #     'base_unit': 'sample',\n",
    "    #     'value': 1\n",
    "    # }, \n",
    "    # 'prediction_boundaries': {\n",
    "    #     'type': 'explicit',\n",
    "    #     'max_value': 100,\n",
    "    #     'min_value': 0\n",
    "    # },\n",
    "    # 'data_alignment': [\n",
    "    #     {\n",
    "    #         'column_name': 'string',\n",
    "    #         'timestamp': 'yyyy-mm-dd hh:mm:ssZ'\n",
    "    #     }\n",
    "    # ],\n",
    "}"
   ]
  },
  {
   "cell_type": "markdown",
   "metadata": {
    "application/vnd.databricks.v1+cell": {
     "cellMetadata": {},
     "inputWidgets": {},
     "nuid": "cebc5001-3521-4f87-976b-e955ea106123",
     "showTitle": false,
     "title": ""
    }
   },
   "source": [
    "#### 2.2.1.3 rca"
   ]
  },
  {
   "cell_type": "code",
   "execution_count": null,
   "metadata": {
    "application/vnd.databricks.v1+cell": {
     "cellMetadata": {
      "byteLimit": 2048000,
      "rowLimit": 10000
     },
     "inputWidgets": {},
     "nuid": "07f078ab-3923-47ad-9cfe-fc010ca44bc6",
     "showTitle": false,
     "title": ""
    }
   },
   "outputs": [],
   "source": [
    "forecasting_rca_configuration = [\n",
    "    # 1\n",
    "]"
   ]
  },
  {
   "cell_type": "markdown",
   "metadata": {
    "application/vnd.databricks.v1+cell": {
     "cellMetadata": {},
     "inputWidgets": {},
     "nuid": "23ac1199-f394-4bc9-93ba-003c137669a6",
     "showTitle": false,
     "title": ""
    }
   },
   "source": [
    "### 2.2.2 class"
   ]
  },
  {
   "cell_type": "markdown",
   "metadata": {
    "application/vnd.databricks.v1+cell": {
     "cellMetadata": {},
     "inputWidgets": {},
     "nuid": "ba325ea1-2051-4b6e-98c5-6a0494382459",
     "showTitle": false,
     "title": ""
    }
   },
   "source": [
    "The Forecasting class validates the build_model configuration and brings it together with the time series in one object.  \n",
    "With the resulting object, models, predictions and other analysis can be made."
   ]
  },
  {
   "cell_type": "code",
   "execution_count": null,
   "metadata": {
    "application/vnd.databricks.v1+cell": {
     "cellMetadata": {
      "byteLimit": 2048000,
      "rowLimit": 10000
     },
     "inputWidgets": {},
     "nuid": "83243b9a-a0f1-4ac3-a1ff-d6dcd88cd616",
     "showTitle": false,
     "title": ""
    }
   },
   "outputs": [],
   "source": [
    "tw_forecasting = tw.Forecasting(\n",
    "    time_series = tw_timeseries,\n",
    "    configuration = build_model_configuration\n",
    ")"
   ]
  },
  {
   "cell_type": "markdown",
   "metadata": {
    "application/vnd.databricks.v1+cell": {
     "cellMetadata": {},
     "inputWidgets": {},
     "nuid": "4a8d2dc3-ca79-44e3-a317-7eadbfb35d72",
     "showTitle": false,
     "title": ""
    }
   },
   "source": [
    "### 2.2.3 build_model"
   ]
  },
  {
   "cell_type": "markdown",
   "metadata": {
    "application/vnd.databricks.v1+cell": {
     "cellMetadata": {},
     "inputWidgets": {},
     "nuid": "91b1551a-2cec-4b40-95bd-ee6c990430af",
     "showTitle": false,
     "title": ""
    }
   },
   "source": [
    "The build model function sends a job request to Tangent to build a forecasting model using the time series and configuration shared in the Forecasting object. The model is returned into the object."
   ]
  },
  {
   "cell_type": "code",
   "execution_count": null,
   "metadata": {
    "application/vnd.databricks.v1+cell": {
     "cellMetadata": {
      "byteLimit": 2048000,
      "rowLimit": 10000
     },
     "inputWidgets": {},
     "nuid": "8674d434-a4ba-40aa-a15b-da962ca292ba",
     "showTitle": false,
     "title": ""
    }
   },
   "outputs": [],
   "source": [
    "tw_forecasting.build_model(\n",
    "    # inplace = True\n",
    ")"
   ]
  },
  {
   "cell_type": "markdown",
   "metadata": {
    "application/vnd.databricks.v1+cell": {
     "cellMetadata": {},
     "inputWidgets": {},
     "nuid": "1fad0cae-c2b3-4d4b-9f74-2892e42974a3",
     "showTitle": false,
     "title": ""
    }
   },
   "source": [
    "### 2.2.4 forecast"
   ]
  },
  {
   "cell_type": "markdown",
   "metadata": {
    "application/vnd.databricks.v1+cell": {
     "cellMetadata": {},
     "inputWidgets": {},
     "nuid": "598fe3b8-e1c4-472f-9b0c-3d5882c1b9cc",
     "showTitle": false,
     "title": ""
    }
   },
   "source": [
    "The forecast function uses the same Forecasting object as the build model.  \n",
    "By default it will reuse the configuration and time series of the build_model.\n",
    "The user can specify a predict_configuration to use the model and change the output.\n",
    "The user can also add a new time series to apply a built model to new data."
   ]
  },
  {
   "cell_type": "code",
   "execution_count": null,
   "metadata": {
    "application/vnd.databricks.v1+cell": {
     "cellMetadata": {
      "byteLimit": 2048000,
      "rowLimit": 10000
     },
     "inputWidgets": {},
     "nuid": "3ebcda28-d217-4c09-8e77-191ddd899964",
     "showTitle": false,
     "title": ""
    }
   },
   "outputs": [],
   "source": [
    "tangent_predictions = tw_forecasting.forecast(\n",
    "  # configuration = predict_configuration,\n",
    "  # time_series = tw_timeseries,\n",
    "  )"
   ]
  },
  {
   "cell_type": "markdown",
   "metadata": {
    "application/vnd.databricks.v1+cell": {
     "cellMetadata": {},
     "inputWidgets": {},
     "nuid": "3668e8a9-e7fb-49ae-be22-eba24f32f067",
     "showTitle": false,
     "title": ""
    }
   },
   "source": [
    "### 2.2.5 rca"
   ]
  },
  {
   "cell_type": "markdown",
   "metadata": {
    "application/vnd.databricks.v1+cell": {
     "cellMetadata": {},
     "inputWidgets": {},
     "nuid": "4f3deef0-31d8-45c7-8472-77d0f00585aa",
     "showTitle": false,
     "title": ""
    }
   },
   "source": [
    "With Root Cause Analysis (RCA), the user can go in depth into the features created by Tangent.\n",
    "The user can access this information using the rca function on the Forecasting object. \n",
    "The user can choose to extract the results from specific models in the model zoo if there are multiple."
   ]
  },
  {
   "cell_type": "code",
   "execution_count": null,
   "metadata": {
    "application/vnd.databricks.v1+cell": {
     "cellMetadata": {
      "byteLimit": 2048000,
      "rowLimit": 10000
     },
     "inputWidgets": {},
     "nuid": "203af066-5e1c-4358-868e-bc4eaabe09f9",
     "showTitle": false,
     "title": ""
    }
   },
   "outputs": [],
   "source": [
    "tw_forecasting_rca = tw_forecasting.rca(\n",
    "  # configuration = forecasting_rca_configuration\n",
    ")"
   ]
  },
  {
   "cell_type": "markdown",
   "metadata": {
    "application/vnd.databricks.v1+cell": {
     "cellMetadata": {},
     "inputWidgets": {},
     "nuid": "2d8be7fb-8440-48f3-9444-5d359b63b56f",
     "showTitle": false,
     "title": ""
    }
   },
   "source": [
    "### 2.2.6 outputs"
   ]
  },
  {
   "cell_type": "markdown",
   "metadata": {
    "application/vnd.databricks.v1+cell": {
     "cellMetadata": {},
     "inputWidgets": {},
     "nuid": "aa6db5ec-498f-4337-bdb3-1e1eac46c44b",
     "showTitle": false,
     "title": ""
    }
   },
   "source": [
    "The following outputs can be extracted from the Forecasting object. \n",
    "- result_table: which contains the predictions\n",
    "- model: which can be analyzed for time series insights\n",
    "- configuration: which contains the configuration used. This is helpful for tracing back how the model was built.\n",
    "- time_series: which contains the time series sent to Tangent. This is helpful for tracing back how the model was built.\n",
    "- rca_table: if RCA was applied, the results can be found here."
   ]
  },
  {
   "cell_type": "code",
   "execution_count": null,
   "metadata": {
    "application/vnd.databricks.v1+cell": {
     "cellMetadata": {
      "byteLimit": 2048000,
      "rowLimit": 10000
     },
     "inputWidgets": {},
     "nuid": "08f9ac31-000d-4118-a824-37c2ca9569b2",
     "showTitle": false,
     "title": ""
    }
   },
   "outputs": [],
   "source": [
    "tw_forecasting_result_table = tw_forecasting.result_table\n",
    "tw_forecasting_model = tw_forecasting.model.to_dict()\n",
    "tw_forecasting_configuration = tw_forecasting.configuration\n",
    "tw_forecasting_time_series = tw_forecasting.time_series\n",
    "tw_forecasting_rca_table = tw_forecasting.rca_table"
   ]
  },
  {
   "cell_type": "markdown",
   "metadata": {
    "application/vnd.databricks.v1+cell": {
     "cellMetadata": {},
     "inputWidgets": {},
     "nuid": "f2884425-72a2-4373-911b-1f8373823803",
     "showTitle": false,
     "title": ""
    }
   },
   "source": [
    "## 2.3 AutoForecasting"
   ]
  },
  {
   "cell_type": "markdown",
   "metadata": {
    "application/vnd.databricks.v1+cell": {
     "cellMetadata": {},
     "inputWidgets": {},
     "nuid": "b4c810e1-6689-4dd5-9ed5-b8da78fed1eb",
     "showTitle": false,
     "title": ""
    }
   },
   "source": [
    "AutoForecasting is an extended capability that builds on Forecasting.  \n",
    "It combines the steps of preprocessing, model building and prediction into one capability.  \n",
    "It helps the user with accelerating their timeseries analysis by simplying the process of setting up a forecast."
   ]
  },
  {
   "cell_type": "markdown",
   "metadata": {
    "application/vnd.databricks.v1+cell": {
     "cellMetadata": {},
     "inputWidgets": {},
     "nuid": "2689376a-a38d-4ef1-bec5-b613a847ecb5",
     "showTitle": false,
     "title": ""
    }
   },
   "source": [
    "### 2.3.1 configuration"
   ]
  },
  {
   "cell_type": "markdown",
   "metadata": {
    "application/vnd.databricks.v1+cell": {
     "cellMetadata": {},
     "inputWidgets": {},
     "nuid": "ec077081-c1e8-4cfa-91fe-063299a003b9",
     "showTitle": false,
     "title": ""
    }
   },
   "source": [
    "Many configuration settings of Forecasting can be found again here in AutoForecasting.  \n",
    "Additional preprocessing functionalities are added to the list of potential configuration settings."
   ]
  },
  {
   "cell_type": "code",
   "execution_count": null,
   "metadata": {
    "application/vnd.databricks.v1+cell": {
     "cellMetadata": {
      "byteLimit": 2048000,
      "rowLimit": 10000
     },
     "inputWidgets": {},
     "nuid": "b2937bdb-0201-4f24-933f-eb01743e8980",
     "showTitle": false,
     "title": ""
    }
   },
   "outputs": [],
   "source": [
    "auto_forecasting_configuration = {\n",
    "    # 'preprocessing': {\n",
    "        # 'training_rows': [{'from': '2021-01-20 00:00:00','to': '2021-10-31 23:00:00'}],\n",
    "        # 'prediction_rows': [{'from': '2021-01-20 00:00:00','to': '2022-01-18 23:00:00'}],\n",
    "        # 'columns': [\n",
    "            # 'string'\n",
    "        # ],\n",
    "        # 'imputation': {\n",
    "            # 'common': {'type': 'linear','max_gap_length': 0},\n",
    "            # 'individual': [{'column_name': 'string','value': {'type': 'linear','max_gap_length': 0}}]\n",
    "        # },\n",
    "        # 'time_scaling': {\n",
    "        #     'time_scale': {'base_unit': 'hour','value': 1},\n",
    "        #     'aggregations': {\n",
    "        #         'common': 'mean',\n",
    "        #         'individual': [\n",
    "        #             {'column_name':'string','value':'mean'}\n",
    "        #         ]\n",
    "        #     },\n",
    "        #     'drop_empty_rows': True\n",
    "        # }\n",
    "    # },\n",
    "    # 'engine': {\n",
    "        # 'target_column': target_column,\n",
    "        # 'holiday_column': 'string',\n",
    "        # 'prediction_from': {'base_unit': 'sample','value': 1},\n",
    "        # 'prediction_to': {'base_unit': 'sample','value': 1},\n",
    "        # 'target_offsets': 'combined',\n",
    "        # 'predictor_offsets': 'common',\n",
    "        # 'allow_offsets': True,\n",
    "        # 'max_offsets_depth': 0,\n",
    "        # 'normalization': True,\n",
    "        # 'max_feature_count': 20,\n",
    "        # 'transformations': [\n",
    "        #     'exponential_moving_average',\n",
    "        #     'rest_of_week',\n",
    "        #     'periodic',\n",
    "        #     'intercept',\n",
    "        #     'piecewise_linear',\n",
    "        #     'time_offsets',\n",
    "        #     'polynomial',\n",
    "        #     'identity',\n",
    "        #     'simple_moving_average',\n",
    "        #     'month',\n",
    "        #     'trend',\n",
    "        #     'day_of_week',\n",
    "        #     'fourier',\n",
    "        #     'public_holidays',\n",
    "        #     'one_hot_encoding'\n",
    "        # ],\n",
    "        # 'daily_cycle': True,\n",
    "        # 'confidence_level': 90,\n",
    "        # 'data_alignment': [\n",
    "        #     {'column_name': 'string','timestamp': 'yyyy-mm-dd hh:mm:ssZ'}\n",
    "        # ],\n",
    "        # 'prediction_boundaries': {\n",
    "        #     'type': 'explicit',\n",
    "        #     'max_value': 100,\n",
    "        #     'min_value': 0\n",
    "        # }\n",
    "    # }\n",
    "}"
   ]
  },
  {
   "cell_type": "markdown",
   "metadata": {
    "application/vnd.databricks.v1+cell": {
     "cellMetadata": {},
     "inputWidgets": {},
     "nuid": "1a29f066-278c-41d8-9eb9-f0d300d129d3",
     "showTitle": false,
     "title": ""
    }
   },
   "source": [
    "### 2.3.2 class"
   ]
  },
  {
   "cell_type": "markdown",
   "metadata": {
    "application/vnd.databricks.v1+cell": {
     "cellMetadata": {},
     "inputWidgets": {},
     "nuid": "d52376b1-d098-435a-b9fb-d4e3f10ec350",
     "showTitle": false,
     "title": ""
    }
   },
   "source": [
    "The AutoForecasting class is also activated with a Tangent time series and a configuration.  \n",
    "This validates the right setup for running a autoforecasting job."
   ]
  },
  {
   "cell_type": "code",
   "execution_count": null,
   "metadata": {
    "application/vnd.databricks.v1+cell": {
     "cellMetadata": {
      "byteLimit": 2048000,
      "rowLimit": 10000
     },
     "inputWidgets": {},
     "nuid": "0de06ddf-3ef5-4cbe-b102-748d7243dd96",
     "showTitle": false,
     "title": ""
    }
   },
   "outputs": [],
   "source": [
    "tw_autoforecasting = tw.AutoForecasting(\n",
    "    time_series = tw_timeseries,\n",
    "    configuration = auto_forecasting_configuration\n",
    "    )"
   ]
  },
  {
   "cell_type": "markdown",
   "metadata": {
    "application/vnd.databricks.v1+cell": {
     "cellMetadata": {},
     "inputWidgets": {},
     "nuid": "fb6a6593-f1a6-458e-ad2c-31e5757575da",
     "showTitle": false,
     "title": ""
    }
   },
   "source": [
    "### 2.3.3 run"
   ]
  },
  {
   "cell_type": "markdown",
   "metadata": {
    "application/vnd.databricks.v1+cell": {
     "cellMetadata": {},
     "inputWidgets": {},
     "nuid": "a25da6ca-a90a-4fdc-b50e-014e07cf8e45",
     "showTitle": false,
     "title": ""
    }
   },
   "source": [
    "To preprocess the data, build a model and generate predictions in one step, the following function can be executed."
   ]
  },
  {
   "cell_type": "code",
   "execution_count": null,
   "metadata": {
    "application/vnd.databricks.v1+cell": {
     "cellMetadata": {
      "byteLimit": 2048000,
      "rowLimit": 10000
     },
     "inputWidgets": {},
     "nuid": "273cd565-a4a2-4247-994c-616ceaf8ad2e",
     "showTitle": false,
     "title": ""
    }
   },
   "outputs": [],
   "source": [
    "tw_autoforecasting.run()"
   ]
  },
  {
   "cell_type": "markdown",
   "metadata": {
    "application/vnd.databricks.v1+cell": {
     "cellMetadata": {},
     "inputWidgets": {},
     "nuid": "33e6f07e-eb90-4391-b0ba-8f0f41a95fdc",
     "showTitle": false,
     "title": ""
    }
   },
   "source": [
    "### 2.3.4 rca"
   ]
  },
  {
   "cell_type": "markdown",
   "metadata": {
    "application/vnd.databricks.v1+cell": {
     "cellMetadata": {},
     "inputWidgets": {},
     "nuid": "292a1c8b-b1cd-4b79-bdf5-2aab1d5f2a12",
     "showTitle": false,
     "title": ""
    }
   },
   "source": [
    "With Root Cause Analysis (RCA), the user can go in depth into the features created by Tangent.\n",
    "The user can access this information using the rca function on the AutoForecasting object. \n",
    "The user can choose to extract the results from specific models in the model zoo if there are multiple."
   ]
  },
  {
   "cell_type": "code",
   "execution_count": null,
   "metadata": {
    "application/vnd.databricks.v1+cell": {
     "cellMetadata": {
      "byteLimit": 2048000,
      "rowLimit": 10000
     },
     "inputWidgets": {},
     "nuid": "99fecbc6-a3d1-4af4-b8ae-30bfd5971032",
     "showTitle": false,
     "title": ""
    }
   },
   "outputs": [],
   "source": [
    "tw_autoforecasting_rca = tw_autoforecasting.rca()"
   ]
  },
  {
   "cell_type": "markdown",
   "metadata": {
    "application/vnd.databricks.v1+cell": {
     "cellMetadata": {},
     "inputWidgets": {},
     "nuid": "7491eb6a-3167-4d10-83c2-2cccf6770bad",
     "showTitle": false,
     "title": ""
    }
   },
   "source": [
    "### 2.3.5 outputs"
   ]
  },
  {
   "cell_type": "markdown",
   "metadata": {
    "application/vnd.databricks.v1+cell": {
     "cellMetadata": {},
     "inputWidgets": {},
     "nuid": "8c57f4c8-2371-4135-b865-820340c7022a",
     "showTitle": false,
     "title": ""
    }
   },
   "source": [
    "The following outputs can be extracted from the AutoForecasting object. \n",
    "- result_table: which contains the predictions\n",
    "- model: which can be analyzed for time series insights\n",
    "- configuration: which contains the configuration used. This is helpful for tracing back how the model was built.\n",
    "- time_series: which contains the time series sent to Tangent. This is helpful for tracing back how the model was built.\n",
    "- rca_table: if RCA was applied, the results can be found here."
   ]
  },
  {
   "cell_type": "code",
   "execution_count": null,
   "metadata": {
    "application/vnd.databricks.v1+cell": {
     "cellMetadata": {
      "byteLimit": 2048000,
      "rowLimit": 10000
     },
     "inputWidgets": {},
     "nuid": "b9a9adb3-e738-4b5a-aa51-28c30b4fe905",
     "showTitle": false,
     "title": ""
    }
   },
   "outputs": [],
   "source": [
    "tw_autoforecasting_result_table = tw_autoforecasting.result_table\n",
    "tw_autoforecasting_model = tw_autoforecasting.model.to_dict()\n",
    "tw_autoforecasting_configuration = tw_autoforecasting.configuration\n",
    "tw_autoforecasting_time_series = tw_autoforecasting.time_series\n",
    "tw_autoforecasting_rca_table = tw_autoforecasting.rca_table"
   ]
  },
  {
   "cell_type": "markdown",
   "metadata": {
    "application/vnd.databricks.v1+cell": {
     "cellMetadata": {},
     "inputWidgets": {},
     "nuid": "86c2aa96-be8a-4be0-9486-3df29f0fc5d0",
     "showTitle": false,
     "title": ""
    }
   },
   "source": [
    "## 2.4 AnomalyDetection"
   ]
  },
  {
   "cell_type": "markdown",
   "metadata": {
    "application/vnd.databricks.v1+cell": {
     "cellMetadata": {},
     "inputWidgets": {},
     "nuid": "b009eeda-d31a-4c3e-8257-146065866747",
     "showTitle": false,
     "title": ""
    }
   },
   "source": [
    "The another capability of Tangent is to build and use anomaly detection models.  \n",
    "The following functions for detection are available in the Tangent Python package."
   ]
  },
  {
   "cell_type": "markdown",
   "metadata": {
    "application/vnd.databricks.v1+cell": {
     "cellMetadata": {},
     "inputWidgets": {},
     "nuid": "20267724-99fe-42a2-b811-bf457d0f1fdf",
     "showTitle": false,
     "title": ""
    }
   },
   "source": [
    "### 2.4.1 configurations"
   ]
  },
  {
   "cell_type": "markdown",
   "metadata": {
    "application/vnd.databricks.v1+cell": {
     "cellMetadata": {},
     "inputWidgets": {},
     "nuid": "aa3e2cf1-a3e9-46f7-94af-eb0dd8cb9ff6",
     "showTitle": false,
     "title": ""
    }
   },
   "source": [
    "The anomaly detection process happens in two stages. First, a normal behavior model is built using Tangent.  \n",
    "This model is then compared to the original time series and detection layers are calculated from different perspectives that indicate how anomalous certain timestamps are.\n",
    "For both stages, the configuration settings can be modified with the dictionary below."
   ]
  },
  {
   "cell_type": "code",
   "execution_count": null,
   "metadata": {
    "application/vnd.databricks.v1+cell": {
     "cellMetadata": {
      "byteLimit": 2048000,
      "rowLimit": 10000
     },
     "inputWidgets": {},
     "nuid": "07543571-687f-4f41-b162-e1ed31f4cf7f",
     "showTitle": false,
     "title": ""
    }
   },
   "outputs": [],
   "source": [
    "build_anomaly_detection_configuration = {\n",
    "    'normal_behavior':{\n",
    "        # 'target_column':'str',\n",
    "        # 'holiday_column:':'str',\n",
    "        # 'target_offsets':'combined',\n",
    "        # 'allow_offsets':True,\n",
    "        # 'max_offsets_depth': 0,\n",
    "        # 'normalization':True,\n",
    "        # 'max_feature_count':20,\n",
    "        # 'transformations': [\n",
    "        #     'exponential_moving_average',\n",
    "        #     'rest_of_week',\n",
    "        #     'periodic',\n",
    "        #     'intercept',\n",
    "        #     'piecewise_linear',\n",
    "        #     'time_offsets',\n",
    "        #     'polynomial',\n",
    "        #     'identity',\n",
    "        #     'simple_moving_average',\n",
    "        #     'month',\n",
    "        #     'trend',\n",
    "        #     'day_of_week',\n",
    "        #     'fourier',\n",
    "        #     'public_holidays',\n",
    "        #     'one_hot_encoding'\n",
    "        # ],    \n",
    "        # 'daily_cycle':True,\n",
    "        # 'confidence_level':90,\n",
    "        # 'categorical_columns':[\n",
    "        #     'str'\n",
    "        # ],\n",
    "        # 'data_alignment': [\n",
    "        #     {\n",
    "        #         'column_name': 'string',\n",
    "        #         'timestamp': 'yyyy-mm-dd hh:mm:ssZ'\n",
    "        #     }\n",
    "        # ],\n",
    "    },\n",
    "    # 'detection_layers': [\n",
    "    #     {\n",
    "    #         'residuals_transformation':{\n",
    "    #             'type':'residuals'\n",
    "    #         },\n",
    "    #         'sensitivity':0.3\n",
    "    #     },\n",
    "    #     {\n",
    "    #         'residuals_transformation':{\n",
    "    #             'type':'residuals_change',\n",
    "    #             'window_length':2\n",
    "    #         },\n",
    "    #         'sensitivity':0.3\n",
    "    #     },\n",
    "    #     {\n",
    "    #         'residuals_transformation':{\n",
    "    #             'type':'moving_average',\n",
    "    #             'window_length':1\n",
    "    #         },\n",
    "    #         'sensitivity':0.3\n",
    "    #     },\n",
    "    #     {\n",
    "    #         'residuals_transformation':{\n",
    "    #             'type':'moving_average_change',\n",
    "    #             'window_lengths':[\n",
    "    #                 2,\n",
    "    #                 1\n",
    "    #             ]\n",
    "    #         },\n",
    "    #         'sensitivity':0.3\n",
    "    #     },\n",
    "    #     {\n",
    "    #         'residuals_transformation':{\n",
    "    #             'type':'standard_deviation',\n",
    "    #             'window_length':1\n",
    "    #         },\n",
    "    #         'sensitivity':0.3\n",
    "    #     },\n",
    "    #     {\n",
    "    #         'residuals_transformation':{\n",
    "    #             'type':'standard_deviation_change',\n",
    "    #             'window_lengths':[\n",
    "    #                 2,\n",
    "    #                 1\n",
    "    #             ]\n",
    "    #         },\n",
    "    #         'sensitivity':0.3\n",
    "    #     },\n",
    "    # ]\n",
    "}"
   ]
  },
  {
   "cell_type": "markdown",
   "metadata": {
    "application/vnd.databricks.v1+cell": {
     "cellMetadata": {},
     "inputWidgets": {},
     "nuid": "997dae2e-861b-4091-a25e-15a1ed68698a",
     "showTitle": false,
     "title": ""
    }
   },
   "source": [
    "### 2.4.2 class"
   ]
  },
  {
   "cell_type": "markdown",
   "metadata": {
    "application/vnd.databricks.v1+cell": {
     "cellMetadata": {},
     "inputWidgets": {},
     "nuid": "f3d5dc32-b130-4f3d-9933-2d5dcd40f7f5",
     "showTitle": false,
     "title": ""
    }
   },
   "source": [
    "The AnomalyDetection class validates the build_model configuration and brings it together with the time series in one object.  \n",
    "With the resulting object, models, detections and other analysis can be made."
   ]
  },
  {
   "cell_type": "code",
   "execution_count": null,
   "metadata": {
    "application/vnd.databricks.v1+cell": {
     "cellMetadata": {
      "byteLimit": 2048000,
      "rowLimit": 10000
     },
     "inputWidgets": {},
     "nuid": "3bddf591-424d-495c-8185-84e0cd3ed756",
     "showTitle": false,
     "title": ""
    }
   },
   "outputs": [],
   "source": [
    "tw_anomaly_detection = tw.AnomalyDetection(\n",
    "    time_series = tw_timeseries,\n",
    "    configuration = build_anomaly_detection_configuration\n",
    "    )"
   ]
  },
  {
   "cell_type": "markdown",
   "metadata": {
    "application/vnd.databricks.v1+cell": {
     "cellMetadata": {},
     "inputWidgets": {},
     "nuid": "19e4bd31-0fb5-4d54-befe-f2dc830d37c5",
     "showTitle": false,
     "title": ""
    }
   },
   "source": [
    "### 2.4.3 build_model"
   ]
  },
  {
   "cell_type": "markdown",
   "metadata": {
    "application/vnd.databricks.v1+cell": {
     "cellMetadata": {},
     "inputWidgets": {},
     "nuid": "92eb1e7b-09fd-4a61-b1f7-e21e0f7e71c4",
     "showTitle": false,
     "title": ""
    }
   },
   "source": [
    "The build model function sends a job request to Tangent to build a anomaly detection model using the time series and configuration shared in the AnomalyDetection object. The model is returned into the object."
   ]
  },
  {
   "cell_type": "code",
   "execution_count": null,
   "metadata": {
    "application/vnd.databricks.v1+cell": {
     "cellMetadata": {
      "byteLimit": 2048000,
      "rowLimit": 10000
     },
     "inputWidgets": {},
     "nuid": "04d368f6-4297-448b-a36e-adc8714136e5",
     "showTitle": false,
     "title": ""
    }
   },
   "outputs": [],
   "source": [
    "tw_anomaly_detection.build_model()"
   ]
  },
  {
   "cell_type": "markdown",
   "metadata": {
    "application/vnd.databricks.v1+cell": {
     "cellMetadata": {},
     "inputWidgets": {},
     "nuid": "216fa287-2871-464b-bb62-a200fec0d9b4",
     "showTitle": false,
     "title": ""
    }
   },
   "source": [
    "### 2.4.4 detect"
   ]
  },
  {
   "cell_type": "markdown",
   "metadata": {
    "application/vnd.databricks.v1+cell": {
     "cellMetadata": {},
     "inputWidgets": {},
     "nuid": "bd76beb0-c7e2-4e83-b5fb-0c52621d635f",
     "showTitle": false,
     "title": ""
    }
   },
   "source": [
    "The detect function uses the same AnomalyDetection object as the build model.  \n",
    "By default it will reuse the configuration and time series of the build_model.  \n",
    "The user can add a new time series to apply a built model to new data."
   ]
  },
  {
   "cell_type": "code",
   "execution_count": null,
   "metadata": {
    "application/vnd.databricks.v1+cell": {
     "cellMetadata": {
      "byteLimit": 2048000,
      "rowLimit": 10000
     },
     "inputWidgets": {},
     "nuid": "37342663-e0dd-4f8d-85d1-add93fc256e8",
     "showTitle": false,
     "title": ""
    }
   },
   "outputs": [],
   "source": [
    "detect_df = tw_anomaly_detection.detect(\n",
    "    time_series = tw_timeseries\n",
    ")"
   ]
  },
  {
   "cell_type": "markdown",
   "metadata": {
    "application/vnd.databricks.v1+cell": {
     "cellMetadata": {},
     "inputWidgets": {},
     "nuid": "95cb6666-71e0-477a-b9cb-b3382638a180",
     "showTitle": false,
     "title": ""
    }
   },
   "source": [
    "### 2.4.5 rca"
   ]
  },
  {
   "cell_type": "markdown",
   "metadata": {
    "application/vnd.databricks.v1+cell": {
     "cellMetadata": {},
     "inputWidgets": {},
     "nuid": "2a5400dd-369b-4493-adf7-5cb6f1d1f1ea",
     "showTitle": false,
     "title": ""
    }
   },
   "source": [
    "With Root Cause Analysis (RCA), the user can go in depth into the features created by Tangent.\n",
    "The user can access this information using the rca function on the AnomalyDetection object. \n",
    "The user can choose to extract the results from specific models in the model zoo if there are multiple."
   ]
  },
  {
   "cell_type": "code",
   "execution_count": null,
   "metadata": {
    "application/vnd.databricks.v1+cell": {
     "cellMetadata": {
      "byteLimit": 2048000,
      "rowLimit": 10000
     },
     "inputWidgets": {},
     "nuid": "bca04e39-9b2c-4bfe-882b-6860fc1051ca",
     "showTitle": false,
     "title": ""
    }
   },
   "outputs": [],
   "source": [
    "tw_anomaly_detection_rca = tw_anomaly_detection.rca(\n",
    "  # configuration = [1]\n",
    ")"
   ]
  },
  {
   "cell_type": "markdown",
   "metadata": {
    "application/vnd.databricks.v1+cell": {
     "cellMetadata": {},
     "inputWidgets": {},
     "nuid": "af293322-4e58-4a78-98e0-8d3bf1937d3f",
     "showTitle": false,
     "title": ""
    }
   },
   "source": [
    "### 2.4.6 outputs"
   ]
  },
  {
   "cell_type": "markdown",
   "metadata": {
    "application/vnd.databricks.v1+cell": {
     "cellMetadata": {},
     "inputWidgets": {},
     "nuid": "656cc13c-980a-4cea-97c9-c9c9bc5ca308",
     "showTitle": false,
     "title": ""
    }
   },
   "source": [
    "The following outputs can be extracted from the AnomalyDetection object. \n",
    "- result_table: which contains the detections\n",
    "- model: which can be analyzed for time series insights\n",
    "- configuration: which contains the configuration used. This is helpful for tracing back how the model was built.\n",
    "- time_series: which contains the time series sent to Tangent. This is helpful for tracing back how the model was built.\n",
    "- rca_table: if RCA was applied, the results can be found here."
   ]
  },
  {
   "cell_type": "code",
   "execution_count": null,
   "metadata": {
    "application/vnd.databricks.v1+cell": {
     "cellMetadata": {
      "byteLimit": 2048000,
      "rowLimit": 10000
     },
     "inputWidgets": {},
     "nuid": "ccdb7dc5-b738-4db7-beed-3e1e88ec07b4",
     "showTitle": false,
     "title": ""
    }
   },
   "outputs": [],
   "source": [
    "tw_anomaly_detection_result_table = tw_anomaly_detection.result_table\n",
    "tw_anomaly_detection_model = tw_anomaly_detection.model.to_dict()\n",
    "tw_anomaly_detection_configuration = tw_anomaly_detection.configuration.to_dict()\n",
    "tw_anomaly_detection_time_series = tw_anomaly_detection.time_series\n",
    "tw_anomaly_detection_rca_table = tw_anomaly_detection.rca_table"
   ]
  },
  {
   "cell_type": "markdown",
   "metadata": {
    "application/vnd.databricks.v1+cell": {
     "cellMetadata": {},
     "inputWidgets": {},
     "nuid": "f151f50b-5946-43d3-8172-9ed2b389fb7c",
     "showTitle": false,
     "title": ""
    }
   },
   "source": [
    "# 3. PostProcessing"
   ]
  },
  {
   "cell_type": "markdown",
   "metadata": {
    "application/vnd.databricks.v1+cell": {
     "cellMetadata": {},
     "inputWidgets": {},
     "nuid": "2865e404-7119-43f1-aac8-7cef14f9bd26",
     "showTitle": false,
     "title": ""
    }
   },
   "source": [
    "This section will explain the different post processing capabilities to facilitate getting insights from Tangent results."
   ]
  },
  {
   "cell_type": "code",
   "execution_count": null,
   "metadata": {
    "application/vnd.databricks.v1+cell": {
     "cellMetadata": {
      "byteLimit": 2048000,
      "rowLimit": 10000
     },
     "inputWidgets": {},
     "nuid": "023d389d-f828-47d5-887e-1b1ba067a065",
     "showTitle": false,
     "title": ""
    }
   },
   "outputs": [],
   "source": [
    "tw_post_processing = tw.PostProcessing()"
   ]
  },
  {
   "cell_type": "markdown",
   "metadata": {
    "application/vnd.databricks.v1+cell": {
     "cellMetadata": {},
     "inputWidgets": {},
     "nuid": "fb2d07b5-bdbf-415a-a730-43c3b8722c4d",
     "showTitle": false,
     "title": ""
    }
   },
   "source": [
    "## 3.1 Properties"
   ]
  },
  {
   "cell_type": "markdown",
   "metadata": {
    "application/vnd.databricks.v1+cell": {
     "cellMetadata": {},
     "inputWidgets": {},
     "nuid": "5c238951-e947-4393-9a1a-a8970747e96c",
     "showTitle": false,
     "title": ""
    }
   },
   "source": [
    "The properties function receives a tangent model and transforms the insights into a Pandas dataframe.  \n",
    "With this, the user can quickly identify which predictors were used by Tangent in the model building process."
   ]
  },
  {
   "cell_type": "code",
   "execution_count": null,
   "metadata": {
    "application/vnd.databricks.v1+cell": {
     "cellMetadata": {
      "byteLimit": 2048000,
      "rowLimit": 10000
     },
     "inputWidgets": {},
     "nuid": "fdd50380-ca8a-4a11-8702-a450fddf5071",
     "showTitle": false,
     "title": ""
    }
   },
   "outputs": [],
   "source": [
    "tw_properties = tw_post_processing.properties(model=tw_forecasting_model)"
   ]
  },
  {
   "cell_type": "markdown",
   "metadata": {
    "application/vnd.databricks.v1+cell": {
     "cellMetadata": {},
     "inputWidgets": {},
     "nuid": "644256dd-ffc5-4f38-a98c-6ef235ac8d73",
     "showTitle": false,
     "title": ""
    }
   },
   "source": [
    "## 3.2 Features"
   ]
  },
  {
   "cell_type": "markdown",
   "metadata": {
    "application/vnd.databricks.v1+cell": {
     "cellMetadata": {},
     "inputWidgets": {},
     "nuid": "20cf2dbe-7655-481f-9900-bef247c30765",
     "showTitle": false,
     "title": ""
    }
   },
   "source": [
    "The features function receives a tangent model and transforms the insights into a Pandas dataframe.  \n",
    "With this, the user can quickly identify which features were generated by Tangent in the model building process."
   ]
  },
  {
   "cell_type": "code",
   "execution_count": null,
   "metadata": {
    "application/vnd.databricks.v1+cell": {
     "cellMetadata": {
      "byteLimit": 2048000,
      "rowLimit": 10000
     },
     "inputWidgets": {},
     "nuid": "c7a2280c-6dc3-4f19-9745-6b0a6dd6bf50",
     "showTitle": false,
     "title": ""
    }
   },
   "outputs": [],
   "source": [
    "tw_features = tw_post_processing.features(model=tw_forecasting_model)"
   ]
  },
  {
   "cell_type": "markdown",
   "metadata": {
    "application/vnd.databricks.v1+cell": {
     "cellMetadata": {},
     "inputWidgets": {},
     "nuid": "f4705eba-a936-44aa-a4e0-95b04b1b41eb",
     "showTitle": false,
     "title": ""
    }
   },
   "source": [
    "## 3.3 Result table"
   ]
  },
  {
   "cell_type": "markdown",
   "metadata": {
    "application/vnd.databricks.v1+cell": {
     "cellMetadata": {},
     "inputWidgets": {},
     "nuid": "d07fc8ea-fa8b-48db-9840-a9c2535d22d8",
     "showTitle": false,
     "title": ""
    }
   },
   "source": [
    "The result table function receives a tangent Forecasting or AutoForecasting object and transforms adds additional information to the result table. \n",
    "With this, the user can quickly identify which timestamps are part of the train set, test set or production forecasts."
   ]
  },
  {
   "cell_type": "code",
   "execution_count": null,
   "metadata": {
    "application/vnd.databricks.v1+cell": {
     "cellMetadata": {
      "byteLimit": 2048000,
      "rowLimit": 10000
     },
     "inputWidgets": {},
     "nuid": "e7bd86f2-5b39-4868-9d83-8f8f23e1ccb1",
     "showTitle": false,
     "title": ""
    }
   },
   "outputs": [],
   "source": [
    "result_table = tw_post_processing.result_table(forecasting=tw_autoforecasting)"
   ]
  }
 ],
 "metadata": {
  "application/vnd.databricks.v1+notebook": {
   "dashboards": [],
   "environmentMetadata": null,
   "language": "python",
   "notebookMetadata": {
    "pythonIndentUnit": 4
   },
   "notebookName": "102 Overview",
   "widgets": {}
  },
  "kernelspec": {
   "display_name": "Python 3 (ipykernel)",
   "language": "python",
   "name": "python3"
  },
  "language_info": {
   "codemirror_mode": {
    "name": "ipython",
    "version": 3
   },
   "file_extension": ".py",
   "mimetype": "text/x-python",
   "name": "python",
   "nbconvert_exporter": "python",
   "pygments_lexer": "ipython3",
   "version": "3.11.5"
  }
 },
 "nbformat": 4,
 "nbformat_minor": 4
}
