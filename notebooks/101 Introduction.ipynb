{
 "cells": [
  {
   "cell_type": "markdown",
   "metadata": {
    "application/vnd.databricks.v1+cell": {
     "cellMetadata": {
      "byteLimit": 2048000,
      "rowLimit": 10000
     },
     "inputWidgets": {},
     "nuid": "a8b58342-b254-4db3-827f-67cd58532a2b",
     "showTitle": false,
     "title": ""
    }
   },
   "source": [
    "# Tangent Databricks Tutorial - Introduction"
   ]
  },
  {
   "cell_type": "markdown",
   "metadata": {
    "application/vnd.databricks.v1+cell": {
     "cellMetadata": {
      "byteLimit": 2048000,
      "rowLimit": 10000
     },
     "inputWidgets": {},
     "nuid": "279a62d8-f2bf-4aae-96c1-e768311ad4b7",
     "showTitle": false,
     "title": ""
    }
   },
   "source": [
    "This tutorial covers the use of Tangent Databricks. This runtime version of Tangent runs on your Databricks cluster and is accessed with a built-in Python package.  \n",
    "In this tutorial you will learn how to use the Python package to access Tangent's capabilities in Databricks."
   ]
  },
  {
   "cell_type": "markdown",
   "metadata": {
    "application/vnd.databricks.v1+cell": {
     "cellMetadata": {
      "byteLimit": 2048000,
      "rowLimit": 10000
     },
     "inputWidgets": {},
     "nuid": "43dfdfcf-04f5-4656-a9ce-740971c8fa10",
     "showTitle": false,
     "title": ""
    }
   },
   "source": [
    "# Tangent"
   ]
  },
  {
   "cell_type": "markdown",
   "metadata": {
    "application/vnd.databricks.v1+cell": {
     "cellMetadata": {
      "byteLimit": 2048000,
      "rowLimit": 10000
     },
     "inputWidgets": {},
     "nuid": "8ef6c0d8-6254-4d06-80f7-377e300eeca7",
     "showTitle": false,
     "title": ""
    }
   },
   "source": [
    "First, some more information about Tangent.  \n",
    "Tangent is a lightweight time series model building engine that allows you to build unique timeseries models in a fraction of the time compared to conventional methods.  \n",
    "It automates the complete process from raw input data to predictions and therefore serves the user by accelerating their work in time series analytics.  \n",
    "The technology is built around a unique and proprietary model building technique that is designed to find predictive value in time series data through efficient feature engineering.  \n",
    "\n",
    "For the user this means they can focus on bringing together useful input data to run through Tangent, and use the resulting predictions and models for solving their use cases and generating insights.  \n",
    "The Tangent core capabilities have been packaged inside a Docker container. This container can then be installed on your Databricks cluster allowing you to leverage the power of Databricks and Tangent together.\n",
    "\n",
    "To learn more about the inner workings of Tangent, you can find more information in the general documentation here: https://docs.tangent.works/"
   ]
  },
  {
   "cell_type": "markdown",
   "metadata": {
    "application/vnd.databricks.v1+cell": {
     "cellMetadata": {
      "byteLimit": 2048000,
      "rowLimit": 10000
     },
     "inputWidgets": {},
     "nuid": "3f2b8c2f-1546-4f56-81df-387977e75906",
     "showTitle": false,
     "title": ""
    }
   },
   "source": [
    "# Requirements"
   ]
  },
  {
   "cell_type": "markdown",
   "metadata": {
    "application/vnd.databricks.v1+cell": {
     "cellMetadata": {
      "byteLimit": 2048000,
      "rowLimit": 10000
     },
     "inputWidgets": {},
     "nuid": "57986b15-15b2-4c45-ae2c-a9b31b01b412",
     "showTitle": false,
     "title": ""
    }
   },
   "source": [
    "Make sure you have a cluster running in Databricks with the configuration as specified in the installation document shared with this tutorial."
   ]
  },
  {
   "cell_type": "markdown",
   "metadata": {
    "application/vnd.databricks.v1+cell": {
     "cellMetadata": {
      "byteLimit": 2048000,
      "rowLimit": 10000
     },
     "inputWidgets": {},
     "nuid": "cf84308d-c39d-4868-ba60-97154008ade6",
     "showTitle": false,
     "title": ""
    }
   },
   "source": [
    "# Getting started"
   ]
  },
  {
   "cell_type": "markdown",
   "metadata": {
    "application/vnd.databricks.v1+cell": {
     "cellMetadata": {
      "byteLimit": 2048000,
      "rowLimit": 10000
     },
     "inputWidgets": {},
     "nuid": "9cb72f12-3f08-4d2d-b6e6-1855766278de",
     "showTitle": false,
     "title": ""
    }
   },
   "source": [
    "Let's test if the Tangent is running by trying out a simple example with synthetic data.  \n",
    "First import the __tangent_works__ package as tw. Import Pandas as well to manage the the input data."
   ]
  },
  {
   "cell_type": "code",
   "execution_count": null,
   "metadata": {
    "application/vnd.databricks.v1+cell": {
     "cellMetadata": {
      "byteLimit": 2048000,
      "rowLimit": 10000
     },
     "inputWidgets": {},
     "nuid": "0bdd6179-f45c-4018-a5b4-903ea355df91",
     "showTitle": false,
     "title": ""
    }
   },
   "outputs": [],
   "source": [
    "import tangent_works as tw\n",
    "import pandas as pd"
   ]
  },
  {
   "cell_type": "markdown",
   "metadata": {},
   "source": [
    "Activate the package with the access token to the Tangent API."
   ]
  },
  {
   "cell_type": "code",
   "execution_count": null,
   "metadata": {},
   "outputs": [],
   "source": [
    "import os\n",
    "import json\n",
    "credentials = json.load(open('../credentials.json'))\n",
    "os.environ[\"TANGENT_LICENSE\"] = (credentials['token'])"
   ]
  },
  {
   "cell_type": "markdown",
   "metadata": {
    "application/vnd.databricks.v1+cell": {
     "cellMetadata": {
      "byteLimit": 2048000,
      "rowLimit": 10000
     },
     "inputWidgets": {},
     "nuid": "8da615a2-ae89-4240-b812-c0049592e0ec",
     "showTitle": false,
     "title": ""
    }
   },
   "source": [
    "Create the synthetic dataset and form a Pandas dataframe to use as example input data."
   ]
  },
  {
   "cell_type": "code",
   "execution_count": null,
   "metadata": {
    "application/vnd.databricks.v1+cell": {
     "cellMetadata": {
      "byteLimit": 2048000,
      "rowLimit": 10000
     },
     "inputWidgets": {},
     "nuid": "7c0483e2-93b5-4bfc-a555-9a54cedc3c79",
     "showTitle": false,
     "title": ""
    }
   },
   "outputs": [],
   "source": [
    "tangent_dataframe = pd.DataFrame(\n",
    "    [\n",
    "        {'timestamp': '2022-08-01 00:00:00', 'target': 7269, 'predictor': 338.810,'label': 0},\n",
    "        {'timestamp': '2022-08-01 01:00:00', 'target': 7049, 'predictor': 320.86, 'label': 0},\n",
    "        {'timestamp': '2022-08-01 02:00:00', 'target': 7013, 'predictor': 329.72, 'label': 0},\n",
    "        {'timestamp': '2022-08-01 03:00:00', 'target': 7292, 'predictor': 380.00, 'label': 0},\n",
    "        {'timestamp': '2022-08-01 04:00:00', 'target': 7675, 'predictor': 429.66, 'label': 0},\n",
    "        {'timestamp': '2022-08-01 05:00:00', 'target': 8299, 'predictor': 467.91, 'label': 0},\n",
    "        {'timestamp': '2022-08-01 06:00:00', 'target': 8844, 'predictor': 474.90, 'label': 0},\n",
    "        {'timestamp': '2022-08-01 07:00:00', 'target': 9253, 'predictor': 461.66, 'label': 0},\n",
    "        {'timestamp': '2022-08-01 08:00:00', 'target': 9546, 'predictor': 446.72, 'label': 0},\n",
    "        {'timestamp': '2022-08-01 09:00:00', 'target': 9808, 'predictor': 433.25, 'label': 0},\n",
    "        {'timestamp': '2022-08-01 10:00:00', 'target': 9847, 'predictor': 385.88, 'label': 0},\n",
    "        {'timestamp': '2022-08-01 11:00:00', 'target': 9719, 'predictor': 344.81, 'label': 0},\n",
    "        {'timestamp': '2022-08-01 12:00:00', 'target': 9566, 'predictor': 310.97, 'label': 0},\n",
    "        {'timestamp': '2022-08-01 13:00:00', 'target': 9584, 'predictor': 317.82, 'label': 0},\n",
    "        {'timestamp': '2022-08-01 14:00:00', 'target': 9412, 'predictor': 344.65, 'label': 0},\n",
    "        {'timestamp': '2022-08-01 15:00:00', 'target': 9375, 'predictor': 397.27, 'label': 0},\n",
    "        {'timestamp': '2022-08-01 16:00:00', 'target': 9477, 'predictor': 421.24, 'label': 0},\n",
    "        {'timestamp': '2022-08-01 17:00:00', 'target': 9279, 'predictor': 434.33, 'label': 0},\n",
    "        {'timestamp': '2022-08-01 18:00:00', 'target': 8943, 'predictor': 473.33, 'label': 0},\n",
    "        {'timestamp': '2022-08-01 19:00:00', 'target': 8663, 'predictor': 469.99, 'label': 0},\n",
    "        {'timestamp': '2022-08-01 20:00:00', 'target': 8725, 'predictor': 475.62, 'label': 0},\n",
    "        {'timestamp': '2022-08-01 21:00:00', 'target': 8487, 'predictor': 408.11, 'label': 0},\n",
    "        {'timestamp': '2022-08-01 22:00:00', 'target': 7893, 'predictor': 440.98, 'label': 0},\n",
    "        {'timestamp': '2022-08-01 23:00:00', 'target': 7540, 'predictor': 390.10, 'label': 1},\n",
    "     ]\n",
    ")\n",
    "\n",
    "group_keys = []\n",
    "timestamp_column = \"timestamp\"\n",
    "target_column = \"target\"\n",
    "\n",
    "predictors = [s for s in list(tangent_dataframe.columns) if s not in group_keys + [timestamp_column, target_column]]\n",
    "tangent_dataframe = tangent_dataframe[group_keys + [timestamp_column, target_column] + predictors].sort_values(by=group_keys + [timestamp_column]).reset_index(drop=True)\n",
    "tangent_dataframe[timestamp_column] = pd.to_datetime(pd.to_datetime(tangent_dataframe[timestamp_column]).dt.strftime(\"%Y-%m-%d %H:%M:%S\"))"
   ]
  },
  {
   "cell_type": "markdown",
   "metadata": {
    "application/vnd.databricks.v1+cell": {
     "cellMetadata": {
      "byteLimit": 2048000,
      "rowLimit": 10000
     },
     "inputWidgets": {},
     "nuid": "452276c8-aa50-4828-8b80-703f5e56953d",
     "showTitle": false,
     "title": ""
    }
   },
   "source": [
    "The next step is to validate the time series data. To make sure the engine will be able to make calculations, we need a Pandas dataframe in the right format.  \n",
    "Typically, you would organise your data by placing the timestamp values in the first column, in the second column the values that you want to model and all following columns can be any value that you believe might have predictive value and should be analyzed by Tangent.  \n",
    "Make sure the timestamp column is in 'datetime' format."
   ]
  },
  {
   "cell_type": "code",
   "execution_count": null,
   "metadata": {
    "application/vnd.databricks.v1+cell": {
     "cellMetadata": {
      "byteLimit": 2048000,
      "rowLimit": 10000
     },
     "inputWidgets": {},
     "nuid": "82d49972-6561-4a2f-9a7f-26a466a154c2",
     "showTitle": false,
     "title": ""
    }
   },
   "outputs": [],
   "source": [
    "tw_timeseries = tw.TimeSeries(data=tangent_dataframe,timestamp_column='timestamp')"
   ]
  },
  {
   "cell_type": "code",
   "execution_count": null,
   "metadata": {
    "application/vnd.databricks.v1+cell": {
     "cellMetadata": {
      "byteLimit": 2048000,
      "rowLimit": 10000
     },
     "inputWidgets": {},
     "nuid": "aeff96c4-b7fb-4dfe-89d3-2e349ef6265b",
     "showTitle": false,
     "title": ""
    }
   },
   "outputs": [],
   "source": [
    "tw_timeseries.validate()"
   ]
  },
  {
   "cell_type": "markdown",
   "metadata": {
    "application/vnd.databricks.v1+cell": {
     "cellMetadata": {
      "byteLimit": 2048000,
      "rowLimit": 10000
     },
     "inputWidgets": {},
     "nuid": "6f81aaa8-a88a-46ae-a69b-96c1a80aa216",
     "showTitle": false,
     "title": ""
    }
   },
   "source": [
    "Tangent works by combining a dataset and a configuration, telling the engine what to do with the dataset, together to generate results.  \n",
    "The next step is to bring both together in an object to validate the setup of the experiment with Tangent. Here we will use the Autoforecasting capabilities and use the default configuration settings by leaving the configuration empty.  \n",
    "By not adding any specific configuration settings, Tangent will decide based on the data, which settings are best applied.  \n",
    "Tangent is designed to automated as much as possible and by using default settings, the user can let Tangent make data driven decisions to come to the best results."
   ]
  },
  {
   "cell_type": "code",
   "execution_count": null,
   "metadata": {
    "application/vnd.databricks.v1+cell": {
     "cellMetadata": {
      "byteLimit": 2048000,
      "rowLimit": 10000
     },
     "inputWidgets": {},
     "nuid": "833b51a7-c682-4cab-8a7f-2a860365f544",
     "showTitle": false,
     "title": ""
    }
   },
   "outputs": [],
   "source": [
    "tw_autoforecasting = tw.AutoForecasting(\n",
    "    time_series = tw_timeseries,\n",
    "    # configuration = {}\n",
    ")"
   ]
  },
  {
   "cell_type": "markdown",
   "metadata": {
    "application/vnd.databricks.v1+cell": {
     "cellMetadata": {
      "byteLimit": 2048000,
      "rowLimit": 10000
     },
     "inputWidgets": {},
     "nuid": "34f63f91-4aef-4944-b128-b9e5e602991c",
     "showTitle": false,
     "title": ""
    }
   },
   "source": [
    "With everything set up correctly, the user can send a \"run\" request to Tangent to start calculations and build the model and predictions.  \n",
    "Depending on the configuration and the size of the dataset, typical jobs take mere seconds to a couple of minutes at most to complete."
   ]
  },
  {
   "cell_type": "code",
   "execution_count": null,
   "metadata": {
    "application/vnd.databricks.v1+cell": {
     "cellMetadata": {
      "byteLimit": 2048000,
      "rowLimit": 10000
     },
     "inputWidgets": {},
     "nuid": "b96558ab-e15b-4768-8d54-3cc233e2169b",
     "showTitle": false,
     "title": ""
    }
   },
   "outputs": [],
   "source": [
    "tw_autoforecasting.run()"
   ]
  },
  {
   "cell_type": "markdown",
   "metadata": {
    "application/vnd.databricks.v1+cell": {
     "cellMetadata": {
      "byteLimit": 2048000,
      "rowLimit": 10000
     },
     "inputWidgets": {},
     "nuid": "14733de0-dd50-4983-b8b4-06da76460e22",
     "showTitle": false,
     "title": ""
    }
   },
   "source": [
    "The model is now finished and the predictions are immediatly calculated. We can collect the results from the autoforecasting object with the following code snippets."
   ]
  },
  {
   "cell_type": "code",
   "execution_count": null,
   "metadata": {
    "application/vnd.databricks.v1+cell": {
     "cellMetadata": {
      "byteLimit": 2048000,
      "rowLimit": 10000
     },
     "inputWidgets": {},
     "nuid": "bb28e4ec-196c-48eb-8584-484987bf2922",
     "showTitle": false,
     "title": ""
    }
   },
   "outputs": [],
   "source": [
    "tangent_results_table = tw_autoforecasting.result_table\n",
    "tangent_auto_forecast_model = tw_autoforecasting.model.to_dict()"
   ]
  },
  {
   "cell_type": "markdown",
   "metadata": {
    "application/vnd.databricks.v1+cell": {
     "cellMetadata": {
      "byteLimit": 2048000,
      "rowLimit": 10000
     },
     "inputWidgets": {},
     "nuid": "56d95ef7-6617-42b7-ab4a-b9185e680f09",
     "showTitle": false,
     "title": ""
    }
   },
   "source": [
    "The predictions are returned as a Pandas dataframe. This table contains the timestamps for which forecasted values are generated as well as additional information such as the date & time perspective from which predictions were made and other usefull perspectives."
   ]
  },
  {
   "cell_type": "code",
   "execution_count": null,
   "metadata": {
    "application/vnd.databricks.v1+cell": {
     "cellMetadata": {
      "byteLimit": 2048000,
      "rowLimit": 10000
     },
     "inputWidgets": {},
     "nuid": "d8c7c1bb-f826-427f-9b6d-c7f6d6f552f0",
     "showTitle": false,
     "title": ""
    }
   },
   "outputs": [],
   "source": [
    "tangent_results_table"
   ]
  },
  {
   "cell_type": "markdown",
   "metadata": {
    "application/vnd.databricks.v1+cell": {
     "cellMetadata": {
      "byteLimit": 2048000,
      "rowLimit": 10000
     },
     "inputWidgets": {},
     "nuid": "368e3274-1c52-425c-9e5d-77de6f59a75d",
     "showTitle": false,
     "title": ""
    }
   },
   "source": [
    "The model is returned as a JSON. This object can be used with other functionalities of Tangent to generate new predictions or gain new insights in the results."
   ]
  },
  {
   "cell_type": "code",
   "execution_count": null,
   "metadata": {
    "application/vnd.databricks.v1+cell": {
     "cellMetadata": {
      "byteLimit": 2048000,
      "rowLimit": 10000
     },
     "inputWidgets": {},
     "nuid": "3a825827-6bcd-4348-87c4-072c448f0f47",
     "showTitle": false,
     "title": ""
    }
   },
   "outputs": [],
   "source": [
    "tangent_auto_forecast_model"
   ]
  },
  {
   "cell_type": "markdown",
   "metadata": {
    "application/vnd.databricks.v1+cell": {
     "cellMetadata": {
      "byteLimit": 2048000,
      "rowLimit": 10000
     },
     "inputWidgets": {},
     "nuid": "309f7a01-c5e2-49e1-ac22-011393241682",
     "showTitle": false,
     "title": ""
    }
   },
   "source": [
    "This example shows the basic process for getting to results with Tangent. From here, there are many more capabilities of Tangent that can be leveraged with the Python Package which you can find in the next section."
   ]
  }
 ],
 "metadata": {
  "application/vnd.databricks.v1+notebook": {
   "dashboards": [],
   "environmentMetadata": null,
   "language": "python",
   "notebookMetadata": {
    "pythonIndentUnit": 4
   },
   "notebookName": "101 Introduction",
   "widgets": {}
  },
  "kernelspec": {
   "display_name": "Python 3 (ipykernel)",
   "language": "python",
   "name": "python3"
  },
  "language_info": {
   "codemirror_mode": {
    "name": "ipython",
    "version": 3
   },
   "file_extension": ".py",
   "mimetype": "text/x-python",
   "name": "python",
   "nbconvert_exporter": "python",
   "pygments_lexer": "ipython3",
   "version": "3.11.5"
  }
 },
 "nbformat": 4,
 "nbformat_minor": 4
}
